{
 "cells": [
  {
   "cell_type": "code",
   "execution_count": 1,
   "metadata": {},
   "outputs": [],
   "source": [
    "# ------------------------------------------------------------------------------------------\n",
    "# IMPORTENT!!! --> Before runing this code make sure to run - \"01_flights_each_day_week_14_data.ipynb\"\n",
    "# ------------------------------------------------------------------------------------------"
   ]
  },
  {
   "cell_type": "code",
   "execution_count": 6,
   "metadata": {},
   "outputs": [],
   "source": [
    "from pyspark.sql import SparkSession\n",
    "from datetime import datetime, timedelta\n",
    "from pyspark.sql.functions import *\n",
    "import os"
   ]
  },
  {
   "cell_type": "code",
   "execution_count": 7,
   "metadata": {},
   "outputs": [],
   "source": [
    "cwd = os.getcwd()\n",
    "spark = SparkSession.builder.appName('SourceTargetCount').getOrCreate()"
   ]
  },
  {
   "cell_type": "code",
   "execution_count": 12,
   "metadata": {},
   "outputs": [],
   "source": [
    "# Step 1 - Week 14 Flights data (OpenSky data)\n",
    "\n",
    "file = f'{cwd}/data/stg/flights_each_day_week_14_data/*.csv'\n",
    "fdf = spark.read.csv(path=file, header=True)\n",
    "fdf = fdf.withColumn(\"filename\", input_file_name())\n",
    "fdf.createOrReplaceTempView('FDF')\n",
    "# fdf.printSchema()\n",
    "\n",
    "# Schema:\n",
    "# root\n",
    "#  |-- flight_date: string (nullable = true)\n",
    "#  |-- flight_dayofweek: string (nullable = true)\n",
    "#  |-- airplane_code: string (nullable = true)\n",
    "#  |-- airport_source_code: string (nullable = true)\n",
    "#  |-- airport_target_code: string (nullable = true)\n",
    "#  |-- flights_count: string (nullable = true)\n",
    "#  |-- flight_year: string (nullable = true)\n",
    "#  |-- filename: string (nullable = false)\n"
   ]
  },
  {
   "cell_type": "code",
   "execution_count": 13,
   "metadata": {},
   "outputs": [],
   "source": [
    "# Step 2 - Check Null percentage for each attribute\n",
    "\n",
    "# spark.sql(\"\"\"\n",
    "\n",
    "# select  count(*)            as row_count,\n",
    "#         cast(sum( case when flight_date         is not null then 1 else 0 end) as double) / count(*) * 100 as NN_flight_date     ,\n",
    "#         cast(sum( case when flight_dayofweek    is not null then 1 else 0 end) as double) / count(*) * 100 as NN_flight_dayofweek,\n",
    "#         cast(sum( case when airplane_code       is not null then 1 else 0 end) as double) / count(*) * 100 as NN_airplane_code   ,\n",
    "#         cast(sum( case when airport_source_code is not null then 1 else 0 end) as double) / count(*) * 100 as NN_airport_source_code,\n",
    "#         cast(sum( case when airport_target_code is not null then 1 else 0 end) as double) / count(*) * 100 as NN_airport_target_code,\n",
    "#         cast(sum( case when flights_count       is not null then 1 else 0 end) as double) / count(*) * 100 as NN_flights_count   ,\n",
    "#         cast(sum( case when year(flight_date)   is not null then 1 else 0 end) as double) / count(*) * 100 as NN_flight_year\n",
    "# from    FDF\n",
    "\n",
    "# \"\"\").show(10,False)\n",
    "\n",
    "\n",
    "# +---------+--------------+-------------------+-----------------+---------+---------+----------------+--------------+\n",
    "# |row_count|NN_flight_date|NN_flight_dayofweek|NN_airplane_code |NN_Source|NN_Target|NN_flights_count|NN_flight_year|\n",
    "# +---------+--------------+-------------------+-----------------+---------+---------+----------------+--------------+\n",
    "# |502819   |100.0         |100.0              |63.76867222598987|100.0    |100.0    |100.0           |100.0         |\n",
    "# +---------+--------------+-------------------+-----------------+---------+---------+----------------+--------------+\n",
    "\n",
    "# As we can see must of our attributes are at 100% except airplane_code ~63%"
   ]
  },
  {
   "cell_type": "code",
   "execution_count": 14,
   "metadata": {},
   "outputs": [
    {
     "data": {
      "text/plain": [
       "187989"
      ]
     },
     "execution_count": 14,
     "metadata": {},
     "output_type": "execute_result"
    }
   ],
   "source": [
    "# Step 3 - Aggregate data for entire week 14 per year \n",
    "\n",
    "# source_target_count_week_14_per_year = spark.sql(\"\"\"\n",
    "\n",
    "# select  airplane_code               as airplane_code,\n",
    "#         airport_source_code         as Source,\n",
    "#         airport_target_code         as Target,\n",
    "#         sum( flights_count )        as Weight,\n",
    "#         year(flight_date) || '_W14' as week_14_year\n",
    "# from    FDF\n",
    "# group by 1,2,3,5\n",
    "\n",
    "# \"\"\").show(10,False)\n",
    "\n",
    "source_target_count_week_14_per_year = spark.sql(\"\"\"\n",
    "\n",
    "select  airport_source_code  as Source,\n",
    "        airport_target_code  as Target,\n",
    "        sum( flights_count ) as flights_count,\n",
    "        year(flight_date)    as flight_year,\n",
    "        year(flight_date)    as year\n",
    "from    FDF\n",
    "group by 1,2,4,5\n",
    "\n",
    "\"\"\")\n",
    "\n",
    "source_target_count_week_14_per_year.count()\n"
   ]
  },
  {
   "cell_type": "code",
   "execution_count": 15,
   "metadata": {},
   "outputs": [],
   "source": [
    "source_target_count_week_14_per_year.repartition(1).write \\\n",
    ".partitionBy('year') \\\n",
    ".mode('overwrite') \\\n",
    ".format(\"com.databricks.spark.csv\") \\\n",
    ".option(\"header\", \"true\") \\\n",
    ".option(\"quoteAll\", \"true\") \\\n",
    ".save(\"./data/stg/source_target_count_week_14_per_year\")"
   ]
  },
  {
   "cell_type": "code",
   "execution_count": 17,
   "metadata": {},
   "outputs": [
    {
     "name": "stdout",
     "output_type": "stream",
     "text": [
      "zsh:1: no matches found: ./data/stg/source_target_count_week_14_per_year/year=2019*/*.csv\r\n"
     ]
    }
   ],
   "source": [
    "# Copy new file into proper data folder location\n",
    "!cp ./data/stg/source_target_count_week_14_per_year/*2019*/*.csv ./data/stg/source_target_count_week_14_per_year/flights_2019.csv \n",
    "# Delete Spark output folder\n",
    "!rm -rf ./data/stg/source_target_count_week_14_per_year/year=2019*\n",
    "# Check that the folder deleted\n",
    "!ls ./data/stg/source_target_count_week_14_per_year/year=2019*/*.csv"
   ]
  },
  {
   "cell_type": "code",
   "execution_count": 18,
   "metadata": {},
   "outputs": [
    {
     "name": "stdout",
     "output_type": "stream",
     "text": [
      "zsh:1: no matches found: ./data/stg/source_target_count_week_14_per_year/year=2020*/*.csv\r\n"
     ]
    }
   ],
   "source": [
    "# Copy new file into proper data folder location\n",
    "!cp ./data/stg/source_target_count_week_14_per_year/*2020*/*.csv ./data/stg/source_target_count_week_14_per_year/flights_2020.csv \n",
    "# Delete Spark output folder\n",
    "!rm -rf ./data/stg/source_target_count_week_14_per_year/year=2020*\n",
    "# Check that the folder deleted\n",
    "!ls ./data/stg/source_target_count_week_14_per_year/year=2020*/*.csv"
   ]
  },
  {
   "cell_type": "code",
   "execution_count": 19,
   "metadata": {},
   "outputs": [
    {
     "name": "stdout",
     "output_type": "stream",
     "text": [
      "zsh:1: no matches found: ./data/stg/source_target_count_week_14_per_year/year=2021*/*.csv\r\n"
     ]
    }
   ],
   "source": [
    "# Copy new file into proper data folder location\n",
    "!cp ./data/stg/source_target_count_week_14_per_year/*2021*/*.csv ./data/stg/source_target_count_week_14_per_year/flights_2021.csv \n",
    "# Delete Spark output folder\n",
    "!rm -rf ./data/stg/source_target_count_week_14_per_year/year=2021*\n",
    "# Check that the folder deleted\n",
    "!ls ./data/stg/source_target_count_week_14_per_year/year=2021*/*.csv"
   ]
  },
  {
   "cell_type": "code",
   "execution_count": null,
   "metadata": {},
   "outputs": [],
   "source": []
  }
 ],
 "metadata": {
  "kernelspec": {
   "display_name": "Python (my_test_env)",
   "language": "python",
   "name": "venv"
  },
  "language_info": {
   "codemirror_mode": {
    "name": "ipython",
    "version": 3
   },
   "file_extension": ".py",
   "mimetype": "text/x-python",
   "name": "python",
   "nbconvert_exporter": "python",
   "pygments_lexer": "ipython3",
   "version": "3.7.3"
  }
 },
 "nbformat": 4,
 "nbformat_minor": 4
}
