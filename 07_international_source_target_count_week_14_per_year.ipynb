{
 "cells": [
  {
   "cell_type": "code",
   "execution_count": 1,
   "metadata": {},
   "outputs": [],
   "source": [
    "# In this Spark ETL process we are creating nodes and adges files (from the OpenSky data set) \n",
    "# for creating our network in Gephi.\n",
    "# ------------------------------------------------------------------------------------------\n",
    "# IMPORTENT!!! --> Before runing this code make sure to run - \"00_download_flight_data.sh\"\n",
    "# ------------------------------------------------------------------------------------------"
   ]
  },
  {
   "cell_type": "code",
   "execution_count": 1,
   "metadata": {},
   "outputs": [],
   "source": [
    "from pyspark.sql import SparkSession\n",
    "from datetime import datetime, timedelta\n",
    "from pyspark.sql.functions import *\n",
    "import os"
   ]
  },
  {
   "cell_type": "code",
   "execution_count": 2,
   "metadata": {},
   "outputs": [],
   "source": [
    "cwd = os.getcwd()\n",
    "spark = SparkSession.builder.appName('InternationalST').getOrCreate()"
   ]
  },
  {
   "cell_type": "code",
   "execution_count": 5,
   "metadata": {},
   "outputs": [],
   "source": [
    "# Step 1 - Load Flights data (OpenSky data)\n",
    "\n",
    "file = f'{cwd}/data/stg/source_target_count_week_14_per_year/flights_*.csv'\n",
    "fdf = spark.read.csv(path=file, header=True)\n",
    "fdf = fdf.withColumn(\"filename\", input_file_name())\n",
    "fdf.createOrReplaceTempView('FDF')\n",
    "# fdf.printSchema()\n",
    "\n",
    "# root\n",
    "#  |-- Source: string (nullable = true)\n",
    "#  |-- Target: string (nullable = true)\n",
    "#  |-- flights_count: string (nullable = true)\n",
    "#  |-- flight_year: string (nullable = true)\n",
    "#  |-- filename: string (nullable = false)"
   ]
  },
  {
   "cell_type": "code",
   "execution_count": 11,
   "metadata": {},
   "outputs": [],
   "source": [
    "# Step 2 - Load dim airports data\n",
    "\n",
    "file = f'{cwd}/data/nodes/airports/airports_nodes_*.csv'\n",
    "adf = spark.read.csv(path=file, header=True)\n",
    "adf = adf.withColumn(\"filename\", input_file_name())\n",
    "adf.createOrReplaceTempView('ADF')\n",
    "# adf.printSchema()\n",
    "\n",
    "# root\n",
    "#  |-- airport_id: string (nullable = true)\n",
    "#  |-- airport_name: string (nullable = true)\n",
    "#  |-- airport_type: string (nullable = true)\n",
    "#  |-- airport_lat: string (nullable = true)\n",
    "#  |-- airport_lng: string (nullable = true)\n",
    "#  |-- country_iso_2_code: string (nullable = true)\n",
    "#  |-- country_iso_3_code: string (nullable = true)\n",
    "#  |-- country_name: string (nullable = true)\n",
    "#  |-- continent_name: string (nullable = true)\n",
    "#  |-- country_lat: string (nullable = true)\n",
    "#  |-- country_lng: string (nullable = true)\n",
    "#  |-- cases_per_week_14: string (nullable = true)\n",
    "#  |-- population: string (nullable = true)\n",
    "#  |-- covid19_percentage: string (nullable = true)\n",
    "#  |-- covid19_percentage_label: string (nullable = true)\n",
    "#  |-- report_year: string (nullable = true)\n",
    "#  |-- filename: string (nullable = false)\n",
    "\n",
    "adf = spark.sql(\"\"\"\n",
    "\n",
    "select  airport_id as airport_id,\n",
    "        country_iso_2_code as country_iso_2_code\n",
    "from    ADF as A\n",
    "group by 1,2\n",
    "\n",
    "\"\"\")\n",
    "adf.createOrReplaceTempView('ADF')"
   ]
  },
  {
   "cell_type": "code",
   "execution_count": 17,
   "metadata": {},
   "outputs": [],
   "source": [
    "# Step 3 - check distinct values in data set\n",
    "\n",
    "# spark.sql(\"\"\"\n",
    "\n",
    "# select  count(*) as row_count,\n",
    "#         count(distinct F.Source        ) as Source,\n",
    "#         count(distinct F.Target        ) as Target,\n",
    "#         count(distinct F.flights_count ) as flights_count\n",
    "# from    FDF as F\n",
    "\n",
    "# \"\"\").show(10,False)\n",
    "\n",
    "# +---------+------+------+-------------+\n",
    "# |row_count|Source|Target|flights_count|\n",
    "# +---------+------+------+-------------+\n",
    "# |187989   |10363 |11886 |278          |\n",
    "# +---------+------+------+-------------+\n",
    "\n",
    "# Now lets check how many we are losing after removing none international flights\n",
    "\n",
    "# spark.sql(\"\"\"\n",
    "\n",
    "# select  count(*) as row_count,\n",
    "#         count(distinct F.Source        ) as Source,\n",
    "#         count(distinct F.Target        ) as Target,\n",
    "#         count(distinct F.flights_count ) as flights_count,\n",
    "#         count(distinct S.country_name  ) as s_country_name,\n",
    "#         count(distinct T.country_name  ) as t_country_name\n",
    "# from    FDF as F\n",
    "#         Left join ADF as S\n",
    "#         On F.Source = S.airport_id\n",
    "#         Left join ADF as T\n",
    "#         On F.Target = T.airport_id\n",
    "# where   S.country_name<>T.country_name\n",
    "\n",
    "# \"\"\").show(10,False)\n",
    "\n",
    "# +---------+------+------+-------------+\n",
    "# |row_count|Source|Target|flights_count|\n",
    "# +---------+------+------+-------------+\n",
    "# |187989   |10363 |11886 |278          |\n",
    "# +---------+------+------+-------------+\n",
    "\n",
    "# All flights after join to airports countries\n",
    "# +---------+------+------+-------------+--------------+--------------+\n",
    "# |row_count|Source|Target|flights_count|s_country_name|t_country_name|\n",
    "# +---------+------+------+-------------+--------------+--------------+\n",
    "# |187989   |10363 |11886 |278          |111           |116           |\n",
    "# +---------+------+------+-------------+--------------+--------------+\n",
    "\n",
    "# where   S.country_name<>T.country_name\n",
    "# +---------+------+------+-------------+--------------+--------------+\n",
    "# |row_count|Source|Target|flights_count|s_country_name|t_country_name|\n",
    "# +---------+------+------+-------------+--------------+--------------+\n",
    "# |30416    |1490  |1908  |119          |109           |114           |\n",
    "# +---------+------+------+-------------+--------------+--------------+\n"
   ]
  },
  {
   "cell_type": "code",
   "execution_count": 13,
   "metadata": {},
   "outputs": [],
   "source": [
    "# Step 4 - Join with dim airports and filter out all none international flights (for better performance)\n",
    "\n",
    "international_source_target_count_week_14_per_year = spark.sql(\"\"\"\n",
    "\n",
    "select  F.Source        Source,\n",
    "        F.Target        Target,\n",
    "        cast(F.flights_count as bigint) flights_count,\n",
    "        F.flight_year as flight_year\n",
    "from    FDF as F\n",
    "        Left join ADF as S\n",
    "        On F.Source = S.airport_id           \n",
    "        Left join ADF as T\n",
    "        On F.Target = T.airport_id\n",
    "where   S.country_iso_2_code<>T.country_iso_2_code\n",
    "\n",
    "\"\"\")\n",
    "\n",
    "international_source_target_count_week_14_per_year.createOrReplaceTempView('international_source_target')"
   ]
  },
  {
   "cell_type": "code",
   "execution_count": 19,
   "metadata": {},
   "outputs": [],
   "source": [
    "# Tests\n",
    "\n",
    "# spark.sql(\"\"\"\n",
    "\n",
    "# select  count(Source) as c_source,\n",
    "#         count(Target) as c_target,\n",
    "#         count(flights_count) as c_flights_count,\n",
    "#         flight_year\n",
    "# from    international_source_target\n",
    "# group by 4\n",
    "\n",
    "\n",
    "# \"\"\").show(10,False)\n",
    "\n",
    "# +--------+--------+---------------+-----------+\n",
    "# |c_source|c_target|c_flights_count|flight_year|\n",
    "# +--------+--------+---------------+-----------+\n",
    "# |15965   |15965   |15965          |2019       |\n",
    "# |4187    |4187    |4187           |2020       |\n",
    "# |10264   |10264   |10264          |2021       |\n",
    "# +--------+--------+---------------+-----------+\n"
   ]
  },
  {
   "cell_type": "code",
   "execution_count": 14,
   "metadata": {},
   "outputs": [],
   "source": [
    "international_source_target_count_week_14_per_year.repartition(1).write \\\n",
    ".partitionBy('flight_year') \\\n",
    ".mode('overwrite') \\\n",
    ".format(\"com.databricks.spark.csv\") \\\n",
    ".option(\"header\", \"true\") \\\n",
    ".option(\"quoteAll\", \"true\") \\\n",
    ".save(\"./data/edges/international_source_target_count_week_14_per_year\")"
   ]
  },
  {
   "cell_type": "code",
   "execution_count": 15,
   "metadata": {},
   "outputs": [
    {
     "name": "stdout",
     "output_type": "stream",
     "text": [
      "zsh:1: no matches found: ./data/edges/international_source_target_count_week_14_per_year/flight_year=2019*/*.csv\r\n"
     ]
    }
   ],
   "source": [
    "# Copy new file into proper data folder location\n",
    "!cp ./data/edges/international_source_target_count_week_14_per_year/*2019*/*.csv ./data/edges/international_source_target_count_week_14_per_year/flights_2019.csv \n",
    "# Delete Spark output folder\n",
    "!rm -rf ./data/edges/international_source_target_count_week_14_per_year/flight_year=2019*\n",
    "# Check that the folder deleted\n",
    "!ls ./data/edges/international_source_target_count_week_14_per_year/flight_year=2019*/*.csv"
   ]
  },
  {
   "cell_type": "code",
   "execution_count": 16,
   "metadata": {},
   "outputs": [
    {
     "name": "stdout",
     "output_type": "stream",
     "text": [
      "zsh:1: no matches found: ./data/edges/international_source_target_count_week_14_per_year/flight_year=2020*/*.csv\r\n"
     ]
    }
   ],
   "source": [
    "# Copy new file into proper data folder location\n",
    "!cp ./data/edges/international_source_target_count_week_14_per_year/*2020*/*.csv ./data/edges/international_source_target_count_week_14_per_year/flights_2020.csv \n",
    "# Delete Spark output folder\n",
    "!rm -rf ./data/edges/international_source_target_count_week_14_per_year/flight_year=2020*\n",
    "# Check that the folder deleted\n",
    "!ls ./data/edges/international_source_target_count_week_14_per_year/flight_year=2020*/*.csv"
   ]
  },
  {
   "cell_type": "code",
   "execution_count": 17,
   "metadata": {},
   "outputs": [
    {
     "name": "stdout",
     "output_type": "stream",
     "text": [
      "zsh:1: no matches found: ./data/edges/international_source_target_count_week_14_per_year/flight_year=2021*/*.csv\r\n"
     ]
    }
   ],
   "source": [
    "# Copy new file into proper data folder location\n",
    "!cp ./data/edges/international_source_target_count_week_14_per_year/*2021*/*.csv ./data/edges/international_source_target_count_week_14_per_year/flights_2021.csv \n",
    "# Delete Spark output folder\n",
    "!rm -rf ./data/edges/international_source_target_count_week_14_per_year/flight_year=2021*\n",
    "# Check that the folder deleted\n",
    "!ls ./data/edges/international_source_target_count_week_14_per_year/flight_year=2021*/*.csv"
   ]
  },
  {
   "cell_type": "code",
   "execution_count": null,
   "metadata": {},
   "outputs": [],
   "source": []
  }
 ],
 "metadata": {
  "kernelspec": {
   "display_name": "Python (my_test_env)",
   "language": "python",
   "name": "venv"
  },
  "language_info": {
   "codemirror_mode": {
    "name": "ipython",
    "version": 3
   },
   "file_extension": ".py",
   "mimetype": "text/x-python",
   "name": "python",
   "nbconvert_exporter": "python",
   "pygments_lexer": "ipython3",
   "version": "3.7.3"
  }
 },
 "nbformat": 4,
 "nbformat_minor": 4
}
