{
 "cells": [
  {
   "cell_type": "code",
   "execution_count": 215,
   "metadata": {},
   "outputs": [],
   "source": [
    "import pandas as pd\n",
    "import networkx as nx\n",
    "from networkx.algorithms import bipartite\n",
    "from networkx.algorithms import community\n",
    "from networkx.algorithms import cluster\n",
    "from networkx.generators import directed\n",
    "\n",
    "\n",
    "import matplotlib.pyplot as plt\n",
    "\n",
    "import numpy as np\n",
    "import pandas as pd\n",
    "from pandas.io import sql\n",
    "import glob\n",
    "#import sqlalchemy as sqa\n",
    "from datetime import date\n",
    "from glob import glob\n",
    "from pathlib import Path\n",
    "\n",
    "\n",
    "from scipy.optimize import curve_fit \n",
    "%matplotlib inline"
   ]
  },
  {
   "cell_type": "code",
   "execution_count": 2,
   "metadata": {},
   "outputs": [],
   "source": [
    "file_path = Path('./data/nodes/nodes_countries.csv')\n",
    "countries = pd.read_csv(file_path)"
   ]
  },
  {
   "cell_type": "markdown",
   "metadata": {},
   "source": [
    "## Data upload"
   ]
  },
  {
   "cell_type": "markdown",
   "metadata": {},
   "source": [
    "Uploading all pandas dfs"
   ]
  },
  {
   "cell_type": "code",
   "execution_count": 132,
   "metadata": {},
   "outputs": [],
   "source": [
    "files = [ Path(path_str) for path_str in glob(\"data/edges/*\") ]\n",
    "times = list(map( lambda path:path.stem.strip('flights_'),files ))\n",
    "dfs={\n",
    "    time:pd.read_csv(path) for time,path in zip(times,files)\n",
    "}"
   ]
  },
  {
   "cell_type": "markdown",
   "metadata": {},
   "source": [
    "Create dictionary of all the graphs"
   ]
  },
  {
   "cell_type": "code",
   "execution_count": 92,
   "metadata": {},
   "outputs": [],
   "source": [
    "graphs = {}\n",
    "for time, df in dfs.items():\n",
    "    G = nx.DiGraph()\n",
    "    for index, row in df.iterrows():\n",
    "        G.add_edge(row[0],row[1], weight=row[2])\n",
    "    graphs[time] = G\n",
    "\n",
    "    "
   ]
  },
  {
   "cell_type": "code",
   "execution_count": 99,
   "metadata": {
    "scrolled": true
   },
   "outputs": [
    {
     "data": {
      "text/plain": [
       "{'2019_03': <networkx.classes.digraph.DiGraph at 0x7f51f3ebf190>,\n",
       " '2020_04': <networkx.classes.digraph.DiGraph at 0x7f51f51ef130>,\n",
       " '2019_02': <networkx.classes.digraph.DiGraph at 0x7f51f3a06d60>,\n",
       " '2020_02': <networkx.classes.digraph.DiGraph at 0x7f51f3ec4910>,\n",
       " '2020_01': <networkx.classes.digraph.DiGraph at 0x7f51f3a06d30>,\n",
       " '2021_01': <networkx.classes.digraph.DiGraph at 0x7f51f3a01760>,\n",
       " '2019_01': <networkx.classes.digraph.DiGraph at 0x7f5202cf1610>,\n",
       " '2020_03': <networkx.classes.digraph.DiGraph at 0x7f51f38676a0>,\n",
       " '2019_04': <networkx.classes.digraph.DiGraph at 0x7f51f39930d0>,\n",
       " '2021_02': <networkx.classes.digraph.DiGraph at 0x7f51f3ec6910>}"
      ]
     },
     "execution_count": 99,
     "metadata": {},
     "output_type": "execute_result"
    }
   ],
   "source": [
    "graphs"
   ]
  },
  {
   "cell_type": "markdown",
   "metadata": {},
   "source": [
    "## Basic information: n of nodes and edges vs time"
   ]
  },
  {
   "cell_type": "code",
   "execution_count": 133,
   "metadata": {},
   "outputs": [],
   "source": [
    "n_nodes =[]\n",
    "n_edges = []\n",
    "time_scale = []\n",
    "for time in sorted(times):\n",
    "    time_scale.append(time)\n",
    "    n_nodes.append(graphs[time].number_of_nodes())\n",
    "    n_edges.append(graphs[time].number_of_edges())"
   ]
  },
  {
   "cell_type": "code",
   "execution_count": 138,
   "metadata": {},
   "outputs": [
    {
     "data": {
      "image/png": "[encoded data removed]",
      "text/plain": [
       "<Figure size 864x504 with 1 Axes>"
      ]
     },
     "metadata": {
      "needs_background": "light"
     },
     "output_type": "display_data"
    }
   ],
   "source": [
    "plt.figure(figsize=(12, 7)) \n",
    "plt.scatter(time_scale,n_nodes, label='n of nodes vs time')\n",
    "plt.xlabel('time')\n",
    "plt.ylabel('n of nodes')\n",
    "plt.show()"
   ]
  },
  {
   "cell_type": "code",
   "execution_count": 139,
   "metadata": {},
   "outputs": [
    {
     "data": {
      "image/png": "[encoded data removed]",
      "text/plain": [
       "<Figure size 864x504 with 1 Axes>"
      ]
     },
     "metadata": {
      "needs_background": "light"
     },
     "output_type": "display_data"
    }
   ],
   "source": [
    "plt.figure(figsize=(12, 7)) \n",
    "plt.scatter(time_scale,n_edges, label='n of nodes vs time')\n",
    "plt.xlabel('time')\n",
    "plt.ylabel('n of edges')\n",
    "plt.show()"
   ]
  },
  {
   "cell_type": "markdown",
   "metadata": {},
   "source": [
    "## Degree, Average Degree and Degree Distribution - for directed graph"
   ]
  },
  {
   "cell_type": "code",
   "execution_count": 202,
   "metadata": {
    "scrolled": false
   },
   "outputs": [],
   "source": [
    "def degree_histogram_directed(G, in_degree=False, out_degree=False):\n",
    "    \"\"\"Returns a list of the frequency of each degree value.\"\"\"\n",
    "    nodes = G.nodes()\n",
    "    if in_degree:\n",
    "        in_degree = dict(G.in_degree(G.nodes(),'weight'))\n",
    "        degseq=[in_degree.get(k,0) for k in nodes]\n",
    "    elif out_degree:\n",
    "        out_degree = dict(G.out_degree(G.nodes(),'weight'))\n",
    "        degseq=[out_degree.get(k,0) for k in nodes]\n",
    "    else:\n",
    "        degseq=[v for k, v in G.degree(G.nodes(),'weight')]\n",
    "    dmax=max(degseq)+1\n",
    "    freq= [ 0 for d in range(dmax) ]\n",
    "    for d in degseq:\n",
    "        freq[d] += 1\n",
    "    return freq\n"
   ]
  },
  {
   "cell_type": "code",
   "execution_count": 273,
   "metadata": {},
   "outputs": [],
   "source": [
    "def average_degree_directed(G):\n",
    "    in_degree = dict(G.out_degree(G.nodes(),'weight'))\n",
    "    degseq=[in_degree.get(k,0) for k in G.nodes()]\n",
    "    d = sum(degseq)/len(degseq)\n",
    "    return d"
   ]
  },
  {
   "cell_type": "code",
   "execution_count": 274,
   "metadata": {},
   "outputs": [
    {
     "name": "stdout",
     "output_type": "stream",
     "text": [
      "7631.05504587156\n"
     ]
    }
   ],
   "source": [
    "print(average_degree_directed(G))"
   ]
  },
  {
   "cell_type": "code",
   "execution_count": 209,
   "metadata": {},
   "outputs": [],
   "source": [
    "def plot_degree_distribution(G):# TODO wrap it in one function \n",
    "    in_degree_freq = degree_histogram_directed(G, in_degree=True)\n",
    "    out_degree_freq = degree_histogram_directed(G, out_degree=True)\n",
    "    degrees = range(len(in_degree_freq))\n",
    "    plt.figure(figsize=(8, 8)) \n",
    "    plt.loglog(range(len(in_degree_freq)), in_degree_freq, 'b.', label='in-degree') \n",
    "    plt.xlabel('Degree')\n",
    "    plt.ylabel('Frequency')\n",
    "    plt.legend(loc='upper right')\n",
    "    plt.show()\n",
    "    \n",
    "    plt.figure(figsize=(8, 8)) \n",
    "    plt.loglog(range(len(out_degree_freq)), out_degree_freq, 'r.', label='out-degree')\n",
    "    plt.xlabel('Degree')\n",
    "    plt.ylabel('Frequency')\n",
    "    plt.legend(loc='upper right')\n",
    "    plt.show()"
   ]
  },
  {
   "cell_type": "markdown",
   "metadata": {},
   "source": [
    "Networks are of the same nature thus their degree distribution is fairly similar  - no need to plot all of them."
   ]
  },
  {
   "cell_type": "code",
   "execution_count": 210,
   "metadata": {
    "scrolled": true
   },
   "outputs": [
    {
     "data": {
      "image/png": "[encoded data removed]",
      "text/plain": [
       "<Figure size 576x576 with 1 Axes>"
      ]
     },
     "metadata": {
      "needs_background": "light"
     },
     "output_type": "display_data"
    },
    {
     "data": {
      "image/png": "[encoded data removed]",
      "text/plain": [
       "<Figure size 576x576 with 1 Axes>"
      ]
     },
     "metadata": {
      "needs_background": "light"
     },
     "output_type": "display_data"
    }
   ],
   "source": [
    "#for G in graphs.values():\n",
    "    #plot_degree_distribution(G)\n",
    "plot_degree_distribution(G)"
   ]
  },
  {
   "cell_type": "markdown",
   "metadata": {},
   "source": [
    "## Plots on the whole network - not aggregated by country"
   ]
  },
  {
   "cell_type": "code",
   "execution_count": null,
   "metadata": {},
   "outputs": [],
   "source": []
  },
  {
   "cell_type": "code",
   "execution_count": null,
   "metadata": {},
   "outputs": [],
   "source": []
  },
  {
   "cell_type": "markdown",
   "metadata": {},
   "source": [
    "## Basic plot"
   ]
  },
  {
   "cell_type": "code",
   "execution_count": 225,
   "metadata": {
    "scrolled": true
   },
   "outputs": [],
   "source": [
    "def plot_basic(G):\n",
    "    elarge = [(u, v) for (u, v, d) in G.edges(data=True) if d[\"weight\"] > 0.5]\n",
    "    esmall = [(u, v) for (u, v, d) in G.edges(data=True) if d[\"weight\"] <= 0.5]\n",
    "\n",
    "    pos = nx.spring_layout(G)  # positions for all nodes\n",
    "\n",
    "    # nodes\n",
    "    nx.draw_networkx_nodes(G, pos, node_size=700)\n",
    "\n",
    "    # edges\n",
    "    nx.draw_networkx_edges(G, pos, edgelist=elarge, width=6)\n",
    "    nx.draw_networkx_edges(\n",
    "        G, pos, edgelist=esmall, width=6, alpha=0.5, edge_color=\"b\", style=\"dashed\"\n",
    "    )\n",
    "\n",
    "    # labels\n",
    "    nx.draw_networkx_labels(G, pos, font_size=20, font_family=\"sans-serif\")\n",
    "\n",
    "    plt.axis(\"off\")\n",
    "    plt.show()"
   ]
  },
  {
   "cell_type": "code",
   "execution_count": 226,
   "metadata": {},
   "outputs": [
    {
     "data": {
      "image/png": "[encoded data removed]",
      "text/plain": [
       "<Figure size 432x288 with 1 Axes>"
      ]
     },
     "metadata": {},
     "output_type": "display_data"
    }
   ],
   "source": [
    "plot_basic(G)"
   ]
  },
  {
   "cell_type": "markdown",
   "metadata": {},
   "source": [
    "## Identify nodes with zero out degree"
   ]
  },
  {
   "cell_type": "markdown",
   "metadata": {},
   "source": [
    "There are some nodes with nonzero in-degree and zero out degree - identify - cross reference with corona db"
   ]
  },
  {
   "cell_type": "code",
   "execution_count": null,
   "metadata": {},
   "outputs": [],
   "source": [
    "average_degree_directed(G)"
   ]
  },
  {
   "cell_type": "code",
   "execution_count": null,
   "metadata": {},
   "outputs": [],
   "source": []
  },
  {
   "cell_type": "code",
   "execution_count": 172,
   "metadata": {},
   "outputs": [],
   "source": [
    "def fit_func(x,a,mu):\n",
    "    return np.sign(a)*(np.abs(a)*x)**mu"
   ]
  },
  {
   "cell_type": "code",
   "execution_count": 168,
   "metadata": {},
   "outputs": [],
   "source": [
    "def plot_degree_dist(G):\n",
    "    degree_hist = nx.degree_histogram(G) \n",
    "    degree_hist = np.array(degree_hist, dtype=float)\n",
    "    degree_prob = degree_hist/G.number_of_nodes()\n",
    "    \n",
    "    # plotting\n",
    "    fig = plt.figure(figsize=(6,6))\n",
    "    axes = fig.add_axes([1,1,1,1])\n",
    "    \n",
    "    axes.loglog(np.arange(degree_prob.shape[0]), degree_prob, 'b.', markersize=15, alpha=0.5)\n",
    "    \n",
    "    axes.set_xlabel('k')\n",
    "    axes.set_ylabel('p(k)')\n",
    "    axes.set_title('Degree Distribution')\n",
    "    \n",
    "    plt.show()\n",
    "    \n",
    "\n",
    "\n",
    "def plot_knn(G, fit=True): \n",
    "    knn_dict = nx.k_nearest_neighbors(G) # k_nearest_neighbors return dict with knn for each k\n",
    "    k_lst = sorted(knn_dict.keys())\n",
    "    knn_lst = []\n",
    "    for k in k_lst:\n",
    "        knn_lst.append(knn_dict[k])\n",
    "    \n",
    "    # plotting\n",
    "    fig = plt.figure(figsize=(6,6))\n",
    "    axes = fig.add_axes([1,1,1,1])\n",
    "    \n",
    "    axes.loglog(k_lst,knn_lst,'b.', markersize=15, alpha=0.5)\n",
    "    \n",
    "    axes.set_xlabel('k')\n",
    "    axes.set_ylabel('knn(k)')\n",
    "    axes.set_title('Average next neighbor degree')\n",
    "    \n",
    "    if fit:\n",
    "        # fit a*x^mu\n",
    "        popt, pcov = curve_fit(fit_func, np.array(k_lst), np.array(knn_lst))\n",
    "        axes.loglog(np.array(k_lst), fit_func(np.array(k_lst), *popt), '--', c='gray')\n",
    "    \n",
    "    plt.show()\n",
    "    \n",
    "def plot_snn(G, fit=True): \n",
    "    snn_dict = nx.k_nearest_neighbors(G, weight='weight') \n",
    "    k_lst = sorted(snn_dict.keys())\n",
    "    snn_lst = []\n",
    "    for k in k_lst:\n",
    "        snn_lst.append(snn_dict[k])\n",
    "    \n",
    "    # plotting\n",
    "    fig = plt.figure(figsize=(6,6))\n",
    "    axes = fig.add_axes([1,1,1,1])\n",
    "    \n",
    "    axes.loglog(k_lst,snn_lst,'b.', markersize=15, alpha=0.5)\n",
    "    \n",
    "    axes.set_xlabel('k')\n",
    "    axes.set_ylabel('snn(k)')\n",
    "    axes.set_title('Average next neighbor strength')\n",
    "    \n",
    "    if fit:\n",
    "        # fit a*x^mu\n",
    "        popt, pcov = curve_fit(fit_func, np.array(k_lst), np.array(snn_lst))\n",
    "        axes.loglog(np.array(k_lst), fit_func(np.array(k_lst), *popt), '--', c='gray')\n",
    "    \n",
    "    plt.show()\n",
    "    \n",
    "    \n",
    "    \n",
    "def plot_clustering_coefficient(G):\n",
    "    clustering_dict = {}\n",
    "    for node in G.nodes():\n",
    "        k = G.degree(node)\n",
    "        if not k in clustering_dict:\n",
    "            clustering_dict[k] = [nx.clustering(G,node)]\n",
    "        else:\n",
    "            clustering_dict[k].append(nx.clustering(G,node))\n",
    "    k_lst = sorted(clustering_dict.keys())\n",
    "    clustering_lst = []\n",
    "    for k in k_lst:\n",
    "        clustering_lst.append(np.array(clustering_dict[k]).mean())\n",
    "    \n",
    "    # plotting\n",
    "    fig = plt.figure(figsize=(6,6))\n",
    "    axes = fig.add_axes([1,1,1,1])\n",
    "    \n",
    "    axes.loglog(k_lst,clustering_lst,'b.', markersize=15, alpha=0.5)\n",
    "    \n",
    "    axes.set_xlabel('k')\n",
    "    axes.set_ylabel('C(k)')\n",
    "    axes.set_title('Average clustering coefficient')\n",
    "    \n",
    "    plt.show()"
   ]
  },
  {
   "cell_type": "code",
   "execution_count": 41,
   "metadata": {},
   "outputs": [],
   "source": [
    "def print_attributes_and_plots(G):\n",
    "    print (nx.info(G))\n",
    "    if not nx.is_directed(G):\n",
    "        if nx.is_connected(G):\n",
    "            print ('Diameter: %s' % nx.diameter(G)) # print diameter of the network\n",
    "        else:\n",
    "            print ('Graph not connected: infinite path length')\n",
    "            print ('Size of largest component: %s' % len(max(nx.connected_components(G), key=len)))\n",
    "    print ('Degree Assortativity Coefficient (r): %s' % nx.degree_assortativity_coefficient(G))\n",
    "    plot_degree_dist(G)\n",
    "    plot_knn(G, fit=False)\n",
    "    if not nx.is_directed(G):\n",
    "        plot_clustering_coefficient(G)"
   ]
  },
  {
   "cell_type": "code",
   "execution_count": 42,
   "metadata": {
    "scrolled": true
   },
   "outputs": [
    {
     "name": "stdout",
     "output_type": "stream",
     "text": [
      "Name: \n",
      "Type: DiGraph\n",
      "Number of nodes: 100\n",
      "Number of edges: 2645\n",
      "Average in degree:  26.4500\n",
      "Average out degree:  26.4500\n",
      "Degree Assortativity Coefficient (r): -0.1948474211462744\n"
     ]
    },
    {
     "data": {
      "image/png": "[encoded data removed]",
      "text/plain": [
       "<Figure size 432x432 with 1 Axes>"
      ]
     },
     "metadata": {
      "needs_background": "light"
     },
     "output_type": "display_data"
    },
    {
     "data": {
      "image/png": "[encoded data removed]",
      "text/plain": [
       "<Figure size 432x432 with 1 Axes>"
      ]
     },
     "metadata": {
      "needs_background": "light"
     },
     "output_type": "display_data"
    }
   ],
   "source": [
    "print_attributes_and_plots(G)"
   ]
  },
  {
   "cell_type": "code",
   "execution_count": 55,
   "metadata": {},
   "outputs": [],
   "source": [
    "communities_generator = community.girvan_newman(G)\n",
    "top_level_communities = next(communities_generator)\n",
    "next_level_communities = next(communities_generator)\n",
    "comm_sets = sorted(map(sorted, next_level_communities))"
   ]
  },
  {
   "cell_type": "code",
   "execution_count": null,
   "metadata": {},
   "outputs": [],
   "source": []
  },
  {
   "cell_type": "markdown",
   "metadata": {},
   "source": [
    "## Centrality ranking"
   ]
  },
  {
   "cell_type": "code",
   "execution_count": 149,
   "metadata": {},
   "outputs": [],
   "source": [
    "in_deg_centrality = nx.in_degree_centrality(G)\n",
    "out_deg_centrality = nx.out_degree_centrality(G)"
   ]
  },
  {
   "cell_type": "code",
   "execution_count": null,
   "metadata": {},
   "outputs": [],
   "source": []
  },
  {
   "cell_type": "markdown",
   "metadata": {},
   "source": [
    "## Clustering \n",
    "\n",
    "\n",
    "### Comparison to random network"
   ]
  },
  {
   "cell_type": "code",
   "execution_count": 164,
   "metadata": {},
   "outputs": [],
   "source": [
    "#TODO build a random network"
   ]
  },
  {
   "cell_type": "code",
   "execution_count": 165,
   "metadata": {},
   "outputs": [],
   "source": [
    "# plot it's characteristics in order to compare with our network"
   ]
  },
  {
   "cell_type": "code",
   "execution_count": 234,
   "metadata": {},
   "outputs": [],
   "source": [
    "G2 = nx.DiGraph(random_G)"
   ]
  },
  {
   "cell_type": "code",
   "execution_count": 247,
   "metadata": {},
   "outputs": [
    {
     "data": {
      "text/plain": [
       "ValuesView(AdjacencyView({25: {0: {}}, 69: {0: {}}, 87: {0: {}}, 26: {0: {}, 1: {}}, 57: {0: {}, 1: {}}, 33: {0: {}}, 89: {0: {}}, 36: {0: {}}, 35: {0: {}}, 83: {0: {}}, 74: {0: {}}, 84: {0: {}}, 59: {0: {}}, 40: {0: {}}, 53: {0: {}}, 98: {0: {}}, 14: {0: {}}, 86: {0: {}}, 95: {0: {}}, 12: {0: {}}, 2: {0: {}}, 99: {0: {}}, 50: {0: {}}}))"
      ]
     },
     "execution_count": 247,
     "metadata": {},
     "output_type": "execute_result"
    }
   ],
   "source": [
    "random_G[0].values()"
   ]
  },
  {
   "cell_type": "markdown",
   "metadata": {},
   "source": [
    "### ‫‪clustering‬‬ ‫‪coefficient,‬‬ ‫‪clustering‬‬ ‫‪coefficient‬‬ ‫‪of‬‬ ‫‪random‬‬ ‫‪network‬‬‬"
   ]
  },
  {
   "cell_type": "code",
   "execution_count": 159,
   "metadata": {
    "scrolled": false
   },
   "outputs": [
    {
     "data": {
      "text/plain": [
       "0.6880894349379032"
      ]
     },
     "execution_count": 159,
     "metadata": {},
     "output_type": "execute_result"
    }
   ],
   "source": [
    "nx.average_clustering(G)"
   ]
  },
  {
   "cell_type": "code",
   "execution_count": 223,
   "metadata": {},
   "outputs": [
    {
     "data": {
      "text/plain": [
       "0.2802271590967772"
      ]
     },
     "execution_count": 223,
     "metadata": {},
     "output_type": "execute_result"
    }
   ],
   "source": [
    "nx.average_clustering(G2)"
   ]
  },
  {
   "cell_type": "markdown",
   "metadata": {},
   "source": [
    "Create random network preserving weights and in and out degree"
   ]
  },
  {
   "cell_type": "code",
   "execution_count": null,
   "metadata": {},
   "outputs": [],
   "source": []
  },
  {
   "cell_type": "code",
   "execution_count": 160,
   "metadata": {},
   "outputs": [
    {
     "data": {
      "text/plain": [
       "-0.16750164066927067"
      ]
     },
     "execution_count": 160,
     "metadata": {},
     "output_type": "execute_result"
    }
   ],
   "source": [
    "nx.degree_assortativity_coefficient(G)"
   ]
  },
  {
   "cell_type": "code",
   "execution_count": null,
   "metadata": {},
   "outputs": [],
   "source": []
  },
  {
   "cell_type": "markdown",
   "metadata": {},
   "source": [
    "## ‫‪Degree‬‬ ‫‪correlation(Knn‬‬ ‫‪vs‬‬ ‫‪k),‬‬ ‫‪Hierarchy (C(k) vs k)"
   ]
  },
  {
   "cell_type": "code",
   "execution_count": 175,
   "metadata": {},
   "outputs": [
    {
     "data": {
      "image/png": "[encoded data removed]",
      "text/plain": [
       "<Figure size 432x432 with 1 Axes>"
      ]
     },
     "metadata": {
      "needs_background": "light"
     },
     "output_type": "display_data"
    }
   ],
   "source": [
    "plot_knn(G,fit = False)"
   ]
  },
  {
   "cell_type": "code",
   "execution_count": 166,
   "metadata": {},
   "outputs": [
    {
     "data": {
      "image/png": "[encoded data removed]",
      "text/plain": [
       "<Figure size 432x432 with 1 Axes>"
      ]
     },
     "metadata": {
      "needs_background": "light"
     },
     "output_type": "display_data"
    }
   ],
   "source": [
    " plot_clustering_coefficient(G)"
   ]
  },
  {
   "cell_type": "code",
   "execution_count": null,
   "metadata": {},
   "outputs": [],
   "source": []
  },
  {
   "cell_type": "code",
   "execution_count": null,
   "metadata": {},
   "outputs": [],
   "source": []
  },
  {
   "cell_type": "markdown",
   "metadata": {},
   "source": [
    "## Comunity detection"
   ]
  },
  {
   "cell_type": "code",
   "execution_count": null,
   "metadata": {},
   "outputs": [],
   "source": []
  }
 ],
 "metadata": {
  "kernelspec": {
   "display_name": "Python (my_test_env)",
   "language": "python",
   "name": "venv"
  },
  "language_info": {
   "codemirror_mode": {
    "name": "ipython",
    "version": 3
   },
   "file_extension": ".py",
   "mimetype": "text/x-python",
   "name": "python",
   "nbconvert_exporter": "python",
   "pygments_lexer": "ipython3",
   "version": "3.7.3"
  }
 },
 "nbformat": 4,
 "nbformat_minor": 5
}
