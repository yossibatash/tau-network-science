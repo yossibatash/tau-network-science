{
 "cells": [
  {
   "cell_type": "code",
   "execution_count": 1,
   "metadata": {},
   "outputs": [],
   "source": [
    "from pyspark.sql import SparkSession\n",
    "from datetime import datetime, timedelta\n",
    "from pyspark.sql.functions import *"
   ]
  },
  {
   "cell_type": "code",
   "execution_count": 11,
   "metadata": {},
   "outputs": [
    {
     "name": "stdout",
     "output_type": "stream",
     "text": [
      "root\n",
      " |-- id: string (nullable = true)\n",
      " |-- ident: string (nullable = true)\n",
      " |-- type: string (nullable = true)\n",
      " |-- name: string (nullable = true)\n",
      " |-- latitude_deg: string (nullable = true)\n",
      " |-- longitude_deg: string (nullable = true)\n",
      " |-- elevation_ft: string (nullable = true)\n",
      " |-- continent: string (nullable = true)\n",
      " |-- iso_country: string (nullable = true)\n",
      " |-- iso_region: string (nullable = true)\n",
      " |-- municipality: string (nullable = true)\n",
      " |-- scheduled_service: string (nullable = true)\n",
      " |-- gps_code: string (nullable = true)\n",
      " |-- iata_code: string (nullable = true)\n",
      " |-- local_code: string (nullable = true)\n",
      " |-- home_link: string (nullable = true)\n",
      " |-- wikipedia_link: string (nullable = true)\n",
      " |-- keywords: string (nullable = true)\n",
      "\n"
     ]
    }
   ],
   "source": [
    "\n",
    "spark = SparkSession.builder.appName('loadNodesData').getOrCreate()\n",
    "airports_file = '/Users/ybatash/PycharmProjects/jupyter/tau-network-science/data/airports.csv'\n",
    "adf = spark.read.csv(path=airports_file, header=True)\n",
    "adf.createOrReplaceTempView('ADF')\n",
    "adf.printSchema()\n"
   ]
  },
  {
   "cell_type": "code",
   "execution_count": 14,
   "metadata": {},
   "outputs": [
    {
     "name": "stdout",
     "output_type": "stream",
     "text": [
      "+------+-----+-------------+------------------------------------------------+------------------+-------------------+------------+---------+-----------+----------+-----------------+-----------------+--------+---------+----------+------------------------------------------------------------------------------+-----------------------------------------------------------+--------------------------+\n",
      "|id    |ident|type         |name                                            |latitude_deg      |longitude_deg      |elevation_ft|continent|iso_country|iso_region|municipality     |scheduled_service|gps_code|iata_code|local_code|home_link                                                                     |wikipedia_link                                             |keywords                  |\n",
      "+------+-----+-------------+------------------------------------------------+------------------+-------------------+------------+---------+-----------+----------+-----------------+-----------------+--------+---------+----------+------------------------------------------------------------------------------+-----------------------------------------------------------+--------------------------+\n",
      "|6523  |00A  |heliport     |Total Rf Heliport                               |40.07080078125    |-74.93360137939453 |11          |NA       |US         |US-PA     |Bensalem         |no               |00A     |null     |00A       |null                                                                          |null                                                       |null                      |\n",
      "|323361|00AA |small_airport|Aero B Ranch Airport                            |38.704022         |-101.473911        |3435        |NA       |US         |US-KS     |Leoti            |no               |00AA    |null     |00AA      |null                                                                          |null                                                       |null                      |\n",
      "|6524  |00AK |small_airport|Lowell Field                                    |59.94919968       |-151.695999146     |450         |NA       |US         |US-AK     |Anchor Point     |no               |00AK    |null     |00AK      |null                                                                          |null                                                       |null                      |\n",
      "|6525  |00AL |small_airport|Epps Airpark                                    |34.86479949951172 |-86.77030181884766 |820         |NA       |US         |US-AL     |Harvest          |no               |00AL    |null     |00AL      |null                                                                          |null                                                       |null                      |\n",
      "|6526  |00AR |closed       |Newport Hospital & Clinic Heliport              |35.6087           |-91.254898         |237         |NA       |US         |US-AR     |Newport          |no               |null    |null     |null      |null                                                                          |null                                                       |00AR                      |\n",
      "|322127|00AS |small_airport|Fulton Airport                                  |34.9428028        |-97.8180194        |1100        |NA       |US         |US-OK     |Alex             |no               |00AS    |null     |00AS      |null                                                                          |null                                                       |null                      |\n",
      "|6527  |00AZ |small_airport|Cordes Airport                                  |34.305599212646484|-112.16500091552734|3810        |NA       |US         |US-AZ     |Cordes           |no               |00AZ    |null     |00AZ      |null                                                                          |null                                                       |null                      |\n",
      "|6528  |00CA |small_airport|Goldstone (GTS) Airport                         |35.35474          |-116.885329        |3038        |NA       |US         |US-CA     |Barstow          |no               |00CA    |null     |00CA      |null                                                                          |null                                                       |null                      |\n",
      "|324424|00CL |small_airport|Williams Ag Airport                             |39.427188         |-121.763427        |87          |NA       |US         |US-CA     |Biggs            |no               |00CL    |null     |00CL      |null                                                                          |null                                                       |null                      |\n",
      "|322658|00CN |heliport     |Kitchen Creek Helibase Heliport                 |32.7273736        |-116.4597417       |3350        |NA       |US         |US-CA     |Pine Valley      |no               |00CN    |null     |00CN      |null                                                                          |null                                                       |null                      |\n",
      "|6529  |00CO |closed       |Cass Field                                      |40.622202         |-104.344002        |4830        |NA       |US         |US-CO     |Briggsdale       |no               |null    |null     |null      |null                                                                          |null                                                       |00CO                      |\n",
      "|6531  |00FA |small_airport|Grass Patch Airport                             |28.64550018310547 |-82.21900177001953 |53          |NA       |US         |US-FL     |Bushnell         |no               |00FA    |null     |00FA      |null                                                                          |null                                                       |null                      |\n",
      "|6532  |00FD |heliport     |Ringhaver Heliport                              |28.846599578857422|-82.34539794921875 |25          |NA       |US         |US-FL     |Riverview        |no               |00FD    |null     |00FD      |null                                                                          |null                                                       |null                      |\n",
      "|6533  |00FL |small_airport|River Oak Airport                               |27.230899810791016|-80.96920013427734 |35          |NA       |US         |US-FL     |Okeechobee       |no               |00FL    |null     |00FL      |null                                                                          |null                                                       |null                      |\n",
      "|6534  |00GA |small_airport|Lt World Airport                                |33.76750183105469 |-84.06829833984375 |700         |NA       |US         |US-GA     |Lithonia         |no               |00GA    |null     |00GA      |null                                                                          |null                                                       |null                      |\n",
      "|6535  |00GE |heliport     |Caffrey Heliport                                |33.889245         |-84.73793          |957         |NA       |US         |US-GA     |Hiram            |no               |00GE    |null     |00GE      |null                                                                          |null                                                       |null                      |\n",
      "|6536  |00HI |heliport     |Kaupulehu Heliport                              |19.832715         |-155.980233        |43          |NA       |US         |US-HI     |Kailua-Kona      |no               |00HI    |null     |00HI      |null                                                                          |null                                                       |null                      |\n",
      "|6537  |00ID |small_airport|Delta Shores Airport                            |48.145301818847656|-116.21399688720703|2064        |NA       |US         |US-ID     |Clark Fork       |no               |00ID    |null     |00ID      |null                                                                          |null                                                       |null                      |\n",
      "|322581|00IG |small_airport|Goltl Airport                                   |39.724028         |-101.395994        |3359        |NA       |US         |US-KS     |McDonald         |no               |00IG    |null     |00IG      |null                                                                          |null                                                       |null                      |\n",
      "|6538  |00II |closed       |Bailey Generation Station Heliport              |41.644501         |-87.122803         |600         |NA       |US         |US-IN     |Chesterton       |no               |null    |null     |null      |null                                                                          |null                                                       |00II                      |\n",
      "|6539  |00IL |small_airport|Hammer Airport                                  |41.97840118408203 |-89.5604019165039  |840         |NA       |US         |US-IL     |Polo             |no               |00IL    |null     |00IL      |null                                                                          |null                                                       |null                      |\n",
      "|6540  |00IN |heliport     |St Mary Medical Center Heliport                 |41.51139831542969 |-87.2605972290039  |634         |NA       |US         |US-IN     |Hobart           |no               |00IN    |null     |00IN      |null                                                                          |null                                                       |null                      |\n",
      "|6541  |00IS |small_airport|Hayenga's Cant Find Farms Airport               |40.02560043334961 |-89.1229019165039  |820         |NA       |US         |US-IL     |Kings            |no               |00IS    |null     |00IS      |null                                                                          |null                                                       |null                      |\n",
      "|6542  |00KS |small_airport|Hayden Farm Airport                             |38.72779846191406 |-94.93049621582031 |1100        |NA       |US         |US-KS     |Gardner          |no               |00KS    |null     |00KS      |null                                                                          |null                                                       |null                      |\n",
      "|6543  |00KY |small_airport|Robbins Roost Airport                           |37.409400939941406|-84.61969757080078 |1265        |NA       |US         |US-KY     |Stanford         |no               |00KY    |null     |00KY      |null                                                                          |null                                                       |null                      |\n",
      "|45437 |00LA |heliport     |Shell Chemical East Site Heliport               |30.191944         |-90.980833         |15          |NA       |US         |US-LA     |Gonzales         |no               |00LA    |null     |00LA      |null                                                                          |null                                                       |null                      |\n",
      "|6544  |00LL |heliport     |Ac & R Components Heliport                      |39.66529846191406 |-89.70559692382812 |600         |NA       |US         |US-IL     |Chatham          |no               |00LL    |null     |00LL      |null                                                                          |null                                                       |null                      |\n",
      "|6545  |00LS |small_airport|Lejeune Airport                                 |30.13629913330078 |-92.42939758300781 |12          |NA       |US         |US-LA     |Esterwood        |no               |00LS    |null     |00LS      |null                                                                          |null                                                       |null                      |\n",
      "|6546  |00MD |small_airport|Slater Field                                    |38.75709915161133 |-75.75379943847656 |45          |NA       |US         |US-MD     |Federalsburg     |no               |00MD    |null     |00MD      |null                                                                          |null                                                       |null                      |\n",
      "|6547  |00MI |heliport     |Dow Chemical Heliport                           |43.94940185546875 |-86.41670227050781 |588         |NA       |US         |US-MI     |Ludington        |no               |00MI    |null     |00MI      |null                                                                          |null                                                       |null                      |\n",
      "|6548  |00MN |small_airport|Battle Lake Municipal Airport                   |46.29999923706055 |-95.70030212402344 |1365        |NA       |US         |US-MN     |Battle Lake      |no               |00MN    |null     |00MN      |null                                                                          |null                                                       |null                      |\n",
      "|6549  |00MO |small_airport|Cooper Flying Service Airport                   |37.202800750732   |-94.412399291992   |970         |NA       |US         |US-MO     |Alba             |no               |00MO    |null     |00MO      |null                                                                          |null                                                       |5K8                       |\n",
      "|324642|00MT |heliport     |Livingston Healthcare Heliport                  |45.675            |-110.52515         |4465        |NA       |US         |US-MT     |Livingston       |no               |00MT    |null     |00MT      |null                                                                          |null                                                       |null                      |\n",
      "|6551  |00N  |small_airport|Bucks Airport                                   |39.473201751708984|-75.1852035522461  |105         |NA       |US         |US-NJ     |Bridgeton        |no               |00N     |null     |00N       |null                                                                          |null                                                       |null                      |\n",
      "|6552  |00NC |small_airport|North Raleigh Airport                           |36.085201263427734|-78.37139892578125 |348         |NA       |US         |US-NC     |Louisburg        |no               |00NC    |null     |00NC      |null                                                                          |null                                                       |null                      |\n",
      "|6553  |00NJ |heliport     |Colgate-Piscataway Heliport                     |40.52090072631836 |-74.47460174560547 |78          |NA       |US         |US-NJ     |New Brunswick    |no               |00NJ    |null     |00NJ      |null                                                                          |null                                                       |null                      |\n",
      "|321919|00NK |seaplane_base|Cliche Cove Seaplane Base                       |44.8118612        |-73.3698057        |96          |NA       |US         |US-NY     |Beekmantown      |no               |00NK    |null     |00NK      |null                                                                          |null                                                       |null                      |\n",
      "|6554  |00NY |small_airport|Weiss Airfield                                  |42.90010070800781 |-77.49970245361328 |1000        |NA       |US         |US-NY     |West Bloomfield  |no               |00NY    |null     |00NY      |null                                                                          |null                                                       |null                      |\n",
      "|6555  |00OH |closed       |Exit 3 Airport                                  |41.590476         |-84.141583         |785         |NA       |US         |US-OH     |Wauseon          |no               |null    |null     |null      |null                                                                          |null                                                       |64D, 00OH                 |\n",
      "|6556  |00OI |heliport     |Miami Valley Hospital Heliport                  |39.74530029296875 |-84.1874008178711  |905         |NA       |US         |US-OH     |Dayton           |no               |00OI    |null     |00OI      |null                                                                          |null                                                       |null                      |\n",
      "|328503|00OK |small_airport|Gull Bay Landing Airport                        |36.198598         |-96.217693         |960         |NA       |US         |US-OK     |Sandsprings      |no               |00OK    |null     |00OK      |null                                                                          |null                                                       |null                      |\n",
      "|6557  |00OR |heliport     |Steel Systems Heliport                          |44.932899475097656|-123.12999725341797|195         |NA       |US         |US-OR     |Salem            |no               |00OR    |null     |00OR      |null                                                                          |null                                                       |null                      |\n",
      "|6558  |00PA |heliport     |R J D Heliport                                  |39.94889831542969 |-75.74690246582031 |402         |NA       |US         |US-PA     |Coatesville      |no               |00PA    |null     |00PA      |null                                                                          |null                                                       |null                      |\n",
      "|45773 |00PN |small_airport|Ferrell Field                                   |41.2995           |-80.211111         |1301        |NA       |US         |US-PA     |Mercer           |no               |00PN    |null     |00PN      |null                                                                          |null                                                       |null                      |\n",
      "|6559  |00PS |closed       |Thomas Field                                    |40.3778           |-77.365303         |815         |NA       |US         |US-PA     |Loysville        |no               |null    |null     |null      |null                                                                          |null                                                       |00PS                      |\n",
      "|6560  |00S  |small_airport|McKenzie Bridge State Airport                   |44.181466         |-122.086           |1620        |NA       |US         |US-OR     |Blue River       |no               |null    |null     |00S       |null                                                                          |https://en.wikipedia.org/wiki/McKenzie_Bridge_State_Airport|null                      |\n",
      "|6561  |00SC |small_airport|Flying O Airport                                |34.0093994140625  |-80.26719665527344 |150         |NA       |US         |US-SC     |Sumter           |no               |00SC    |null     |00SC      |null                                                                          |null                                                       |null                      |\n",
      "|330391|00SD |small_airport|Homan Field                                     |44.809158         |-96.498897         |1590        |NA       |US         |US-SD     |Gary             |no               |00SD    |null     |00SD      |null                                                                          |null                                                       |null                      |\n",
      "|6562  |00TA |closed       |SW Region FAA Heliport                          |32.8269           |-97.305801         |598         |NA       |US         |US-TX     |Fort Worth       |no               |null    |null     |null      |null                                                                          |null                                                       |00TA                      |\n",
      "|6563  |00TE |heliport     |Tcjc-Northeast Campus Heliport                  |32.847599029541016|-97.18949890136719 |600         |NA       |US         |US-TX     |Fort Worth       |no               |00TE    |null     |00TE      |null                                                                          |null                                                       |null                      |\n",
      "|6564  |00TN |small_airport|Ragsdale Road Airport                           |35.515899658203125|-85.95359802246094 |1100        |NA       |US         |US-TN     |Manchester       |no               |00TN    |null     |00TN      |null                                                                          |null                                                       |null                      |\n",
      "|6565  |00TS |small_airport|Alpine Range Airport                            |32.607601165771484|-97.24199676513672 |670         |NA       |US         |US-TX     |Everman          |no               |00TS    |null     |00TS      |null                                                                          |null                                                       |null                      |\n",
      "|6566  |00TX |closed       |San Jacinto Methodist Hospital Heliport         |29.7377           |-94.980201         |19          |NA       |US         |US-TX     |Baytown          |no               |null    |null     |null      |null                                                                          |null                                                       |00TX                      |\n",
      "|6567  |00UT |closed       |Clear Creek Ranch Airport                       |37.247799         |-112.821998        |6138        |NA       |US         |US-UT     |Kanab            |no               |null    |null     |null      |null                                                                          |null                                                       |00UT, U21                 |\n",
      "|6568  |00VA |small_airport|Vaughan Airport                                 |36.57600021       |-78.9991684        |551         |NA       |US         |US-VA     |Alton            |no               |00VA    |null     |00VA      |null                                                                          |null                                                       |null                      |\n",
      "|6569  |00VI |small_airport|Groundhog Mountain Airport                      |36.663299560546875|-80.49949645996094 |2680        |NA       |US         |US-VA     |Hillsville       |no               |00VI    |null     |00VI      |null                                                                          |null                                                       |null                      |\n",
      "|6570  |00W  |small_airport|Lower Granite State Airport                     |46.672884         |-117.441933        |719         |NA       |US         |US-WA     |Colfax           |no               |null    |null     |00W       |http://www.wsdot.wa.gov/aviation/AllStateAirports/Colfax_LowerGraniteState.htm|null                                                       |0WA0                      |\n",
      "|6571  |00WA |small_airport|Howell Airport                                  |47.17839813232422 |-122.77200317382812|150         |NA       |US         |US-WA     |Longbranch       |no               |00WA    |null     |00WA      |null                                                                          |null                                                       |null                      |\n",
      "|6572  |00WI |small_airport|Northern Lite Airport                           |44.304298400878906|-89.05010223388672 |860         |NA       |US         |US-WI     |Waupaca          |no               |00WI    |null     |00WI      |null                                                                          |null                                                       |null                      |\n",
      "|6573  |00WN |small_airport|Hawks Run Airport                               |46.25             |-117.2490005493164 |2900        |NA       |US         |US-WA     |Asotin           |no               |00WN    |null     |00WN      |null                                                                          |null                                                       |null                      |\n",
      "|6574  |00WV |small_airport|Lazy J. Aerodrome                               |38.82889938354492 |-79.86609649658203 |2060        |NA       |US         |US-WV     |Beverly          |no               |00WV    |null     |00WV      |null                                                                          |null                                                       |null                      |\n",
      "|322300|00WY |heliport     |Mountain View Regional Hospital Heliport        |42.840361         |-106.224443        |5210        |NA       |US         |US-WY     |Casper           |no               |00WY    |null     |00WY      |null                                                                          |null                                                       |null                      |\n",
      "|6575  |00XS |small_airport|L P Askew Farms Airport                         |33.03340148925781 |-101.93399810791016|3110        |NA       |US         |US-TX     |O'Donnell        |no               |00XS    |null     |00XS      |null                                                                          |null                                                       |null                      |\n",
      "|6576  |01A  |small_airport|Purkeypile Airport                              |62.943599700927734|-152.27000427246094|1950        |NA       |US         |US-AK     |Purkeypile       |no               |01A     |null     |01A       |null                                                                          |null                                                       |null                      |\n",
      "|6577  |01AK |heliport     |Providence Seward Medical Center Heliport       |60.105873975399994|-149.446249008     |120         |NA       |US         |US-AK     |Seward           |no               |01AK    |null     |01AK      |null                                                                          |null                                                       |null                      |\n",
      "|6578  |01AL |small_airport|Ware Island Airport                             |32.94599914550781 |-86.51390075683594 |344         |NA       |US         |US-AL     |Clanton          |no               |01AL    |null     |01AL      |null                                                                          |null                                                       |null                      |\n",
      "|6579  |01AR |heliport     |Community Hospital of De Queen Heliport         |34.047298431396484|-94.35489654541016 |400         |NA       |US         |US-AR     |De Queen         |no               |01AR    |null     |01AR      |null                                                                          |null                                                       |null                      |\n",
      "|6580  |01AZ |heliport     |Yat Heliport                                    |34.60810089111328 |-111.86499786376953|3300        |NA       |US         |US-AZ     |Camp Verde       |no               |01AZ    |null     |01AZ      |null                                                                          |null                                                       |null                      |\n",
      "|6581  |01C  |closed       |Grant Airport                                   |43.341701507568   |-85.775001525879   |815         |NA       |US         |US-MI     |Grant            |no               |01C     |null     |01C       |null                                                                          |https://en.wikipedia.org/wiki/Grant_Airport                |null                      |\n",
      "|6582  |01CA |heliport     |Lugo Substation Heliport                        |34.368240591699994|-117.370058745     |3733        |NA       |US         |US-CA     |Hesperia         |no               |01CA    |null     |01CA      |null                                                                          |null                                                       |null                      |\n",
      "|6583  |01CL |small_airport|Swansboro Country Airport                       |38.79990005493164 |-120.73400115966797|2594        |NA       |US         |US-CA     |Placerville      |no               |01CL    |null     |01CL      |null                                                                          |null                                                       |null                      |\n",
      "|6584  |01CN |heliport     |Los Angeles County Sheriff's Department Heliport|34.03779983520508 |-118.15399932861328|300         |NA       |US         |US-CA     |Los Angeles      |no               |01CN    |null     |01CN      |null                                                                          |null                                                       |null                      |\n",
      "|6585  |01CO |heliport     |St Vincent General Hospital Heliport            |39.24530029296875 |-106.24600219726562|10175       |NA       |US         |US-CO     |Leadville        |no               |01CO    |null     |01CO      |null                                                                          |null                                                       |null                      |\n",
      "|6586  |01CT |heliport     |Berlin Fairgrounds Heliport                     |41.62730026245117 |-72.72750091552734 |60          |NA       |US         |US-CT     |Berlin           |no               |01CT    |null     |01CT      |null                                                                          |null                                                       |null                      |\n",
      "|6587  |01FA |small_airport|Rybolt Ranch Airport                            |28.589399337768555|-81.14420318603516 |55          |NA       |US         |US-FL     |Orlando          |no               |01FA    |null     |01FA      |null                                                                          |null                                                       |null                      |\n",
      "|6588  |01FD |heliport     |Advent Health Altamonte Springs Heliport        |28.666639         |-81.3697           |86          |NA       |US         |US-FL     |Altamonte Springs|no               |01FD    |null     |01FD      |null                                                                          |null                                                       |Florida Hospital-Altamonte|\n",
      "|6589  |01FL |small_airport|Cedar Knoll Flying Ranch Airport                |28.78190040588379 |-81.1592025756836  |19          |NA       |US         |US-FL     |Geneva           |no               |01FL    |null     |01FL      |null                                                                          |null                                                       |null                      |\n",
      "|6590  |01GA |heliport     |Medical Center Heliport                         |32.47930145263672 |-84.9791030883789  |319         |NA       |US         |US-GA     |Columbus         |no               |01GA    |null     |01GA      |null                                                                          |null                                                       |null                      |\n",
      "|6591  |01GE |small_airport|The Farm Airport                                |32.674400329589844|-82.77110290527344 |375         |NA       |US         |US-GA     |Wrightsville     |no               |01GE    |null     |01GE      |null                                                                          |null                                                       |null                      |\n",
      "|6592  |01IA |small_airport|Stender Airport                                 |41.66109848022461 |-90.74130249023438 |725         |NA       |US         |US-IA     |Maysville        |no               |01IA    |null     |01IA      |null                                                                          |null                                                       |null                      |\n",
      "|6530  |01ID |small_airport|Lava Hot Springs Airport                        |42.6082           |-112.031998        |5268        |NA       |US         |US-ID     |Lava Hot Springs |no               |01ID    |null     |01ID      |null                                                                          |null                                                       |Formerly 00E, ID26        |\n",
      "|6593  |01II |small_airport|Myers Field                                     |39.8849983215332  |-86.50669860839844 |950         |NA       |US         |US-IN     |Lizton           |no               |01II    |null     |01II      |null                                                                          |null                                                       |null                      |\n",
      "|6594  |01IL |heliport     |Hoopeston Community Memorial Hospital Heliport  |40.45859909057617 |-87.65950012207031 |583         |NA       |US         |US-IL     |Hoopeston        |no               |01IL    |null     |01IL      |null                                                                          |null                                                       |null                      |\n",
      "|6595  |01IN |heliport     |Community Hospital Heliport                     |40.13090133666992 |-85.69580078125    |890         |NA       |US         |US-IN     |Anderson         |no               |01IN    |null     |01IN      |null                                                                          |null                                                       |null                      |\n",
      "|6596  |01IS |small_airport|William E. Koenig Airport                       |39.01620101928711 |-90.31819915771484 |670         |NA       |US         |US-IL     |Dow              |no               |01IS    |null     |01IS      |null                                                                          |null                                                       |null                      |\n",
      "|6597  |01J  |small_airport|Hilliard Airpark                                |30.68630027770996 |-81.90570068359375 |59          |NA       |US         |US-FL     |Hilliard         |no               |01J     |null     |01J       |null                                                                          |null                                                       |null                      |\n",
      "|6598  |01K  |small_airport|Caldwell Municipal Airport                      |37.03609848022461 |-97.5864028930664  |1157        |NA       |US         |US-KS     |Caldwell         |no               |01K     |null     |01K       |null                                                                          |null                                                       |null                      |\n",
      "|6599  |01KS |small_airport|Flying N Ranch Airport                          |38.54059982299805 |-97.00330352783203 |1485        |NA       |US         |US-KS     |Lost Springs     |no               |01KS    |null     |01KS      |null                                                                          |null                                                       |null                      |\n",
      "|6600  |01KY |heliport     |Lourdes Hospital Heliport                       |37.051700592041016|-88.64689636230469 |419         |NA       |US         |US-KY     |Paducah          |no               |01KY    |null     |01KY      |null                                                                          |null                                                       |null                      |\n",
      "|6601  |01LA |small_airport|Barham Airport                                  |32.638999938964844|-91.77369689941406 |90          |NA       |US         |US-LA     |Oak Ridge        |no               |01LA    |null     |01LA      |null                                                                          |null                                                       |null                      |\n",
      "|6602  |01LL |small_airport|Schumaier Restricted Landing Area               |38.12580108642578 |-89.46389770507812 |555         |NA       |US         |US-IL     |Pinckneyville    |no               |01LL    |null     |01LL      |null                                                                          |null                                                       |null                      |\n",
      "|6603  |01LS |small_airport|Country Breeze Airport                          |30.70599937438965 |-91.07740020751953 |125         |NA       |US         |US-LA     |Slaughter        |no               |01LS    |null     |01LS      |null                                                                          |null                                                       |null                      |\n",
      "|6604  |01MA |heliport     |Compaq Andover Heliport                         |42.625099182128906|-71.18009948730469 |140         |NA       |US         |US-MA     |Andover          |no               |01MA    |null     |01MA      |null                                                                          |null                                                       |null                      |\n",
      "|6605  |01MD |seaplane_base|Annapolis Seaplane Base                         |38.999199         |-76.456001         |null        |NA       |US         |US-MD     |Annapolis        |no               |01MD    |null     |01MD      |null                                                                          |null                                                       |null                      |\n",
      "|6606  |01ME |seaplane_base|Saint Peter's Seaplane Base                     |46.778900146484375|-68.50029754638672 |608         |NA       |US         |US-ME     |Portage Lake     |no               |01ME    |null     |01ME      |null                                                                          |null                                                       |null                      |\n",
      "|6607  |01MI |heliport     |Flow Through Terminal Heliport                  |43.04949951171875 |-83.67970275878906 |736         |NA       |US         |US-MI     |Flint            |no               |01MI    |null     |01MI      |null                                                                          |null                                                       |null                      |\n",
      "|6608  |01MN |seaplane_base|Barnes Seaplane Base                            |47.899600982666016|-92.55740356445312 |1358        |NA       |US         |US-MN     |Cook             |no               |01MN    |null     |01MN      |null                                                                          |null                                                       |null                      |\n",
      "|6609  |01MO |heliport     |Highway Patrol Troop C Headquarters Heliport    |38.641700744628906|-90.48429870605469 |615         |NA       |US         |US-MO     |Town and Country |no               |01MO    |null     |01MO      |null                                                                          |null                                                       |null                      |\n",
      "|6610  |01MT |small_airport|Crystal Lakes Resort Airport                    |48.789100646972656|-114.87999725341797|3141        |NA       |US         |US-MT     |Fortine          |no               |01MT    |null     |01MT      |null                                                                          |null                                                       |null                      |\n",
      "|6611  |01NC |small_airport|Topsail Airpark                                 |34.47529983520508 |-77.5813980102539  |65          |NA       |US         |US-NC     |Holly Ridge      |no               |01NC    |null     |01NC      |null                                                                          |null                                                       |null                      |\n",
      "+------+-----+-------------+------------------------------------------------+------------------+-------------------+------------+---------+-----------+----------+-----------------+-----------------+--------+---------+----------+------------------------------------------------------------------------------+-----------------------------------------------------------+--------------------------+\n",
      "only showing top 100 rows\n",
      "\n"
     ]
    }
   ],
   "source": [
    "adf.show(100,False)"
   ]
  },
  {
   "cell_type": "code",
   "execution_count": 3,
   "metadata": {},
   "outputs": [],
   "source": [
    "# spark.sql(\"\"\"\n",
    "# select  count(*) as row_count,\n",
    "#         sum( case when id                is not null and id                <>'' and id                <> 'NA' then 1 else 0 end)/count(*) * 100 as id,\n",
    "#         sum( case when ident             is not null and ident             <>'' and ident             <> 'NA' then 1 else 0 end)/count(*) * 100 as ident,\n",
    "#         sum( case when type              is not null and type              <>'' and type              <> 'NA' then 1 else 0 end)/count(*) * 100 as airport_type,\n",
    "#         sum( case when name              is not null and name              <>'' and name              <> 'NA' then 1 else 0 end)/count(*) * 100 as airport_name,\n",
    "#         sum( case when latitude_deg      is not null and latitude_deg      <>'' and latitude_deg      <> 'NA' then 1 else 0 end)/count(*) * 100 as latitude_deg,\n",
    "#         sum( case when longitude_deg     is not null and longitude_deg     <>'' and longitude_deg     <> 'NA' then 1 else 0 end)/count(*) * 100 as longitude_deg,\n",
    "#         sum( case when elevation_ft      is not null and elevation_ft      <>'' and elevation_ft      <> 'NA' then 1 else 0 end)/count(*) * 100 as elevation_ft,\n",
    "#         sum( case when continent         is not null and continent         <>'' and continent         <> 'NA' then 1 else 0 end)/count(*) * 100 as continent,\n",
    "#         sum( case when iso_country       is not null and iso_country       <>'' and iso_country       <> 'NA' then 1 else 0 end)/count(*) * 100 as iso_country,\n",
    "#         sum( case when iso_region        is not null and iso_region        <>'' and iso_region        <> 'NA' then 1 else 0 end)/count(*) * 100 as iso_region,\n",
    "#         sum( case when municipality      is not null and municipality      <>'' and municipality      <> 'NA' then 1 else 0 end)/count(*) * 100 as municipality,\n",
    "#         sum( case when scheduled_service is not null and scheduled_service <>'' and scheduled_service <> 'NA' then 1 else 0 end)/count(*) * 100 as scheduled_service,\n",
    "#         sum( case when gps_code          is not null and gps_code          <>'' and gps_code          <> 'NA' then 1 else 0 end)/count(*) * 100 as gps_code,\n",
    "#         sum( case when iata_code         is not null and iata_code         <>'' and iata_code         <> 'NA' then 1 else 0 end)/count(*) * 100 as iata_code,\n",
    "#         sum( case when local_code        is not null and local_code        <>'' and local_code        <> 'NA' then 1 else 0 end)/count(*) * 100 as local_code,\n",
    "#         sum( case when home_link         is not null and home_link         <>'' and home_link         <> 'NA' then 1 else 0 end)/count(*) * 100 as home_link,\n",
    "#         sum( case when wikipedia_link    is not null and wikipedia_link    <>'' and wikipedia_link    <> 'NA' then 1 else 0 end)/count(*) * 100 as wikipedia_link,\n",
    "#         sum( case when keywords          is not null and keywords          <>'' and keywords          <> 'NA' then 1 else 0 end)/count(*) * 100 as keywords\n",
    "# from    ADF\n",
    "\n",
    "# \"\"\").show(10, False)\n"
   ]
  },
  {
   "cell_type": "code",
   "execution_count": 3,
   "metadata": {},
   "outputs": [],
   "source": [
    "nodes_df = spark.sql(\"\"\"\n",
    "select  ident             as Id,\n",
    "        name              as Label,\n",
    "        type              as Airport_Type,\n",
    "        iso_country       as Country,\n",
    "        latitude_deg      as lat,\n",
    "        longitude_deg     as lng\n",
    "from    ADF joint eFilter on \n",
    "\"\"\")\n",
    "# where   iso_country = 'IL'\n",
    "\n",
    "\n",
    "nodes_df.createOrReplaceTempView('ADF')"
   ]
  },
  {
   "cell_type": "code",
   "execution_count": 6,
   "metadata": {},
   "outputs": [
    {
     "data": {
      "text/plain": [
       "136897"
      ]
     },
     "execution_count": 6,
     "metadata": {},
     "output_type": "execute_result"
    }
   ],
   "source": [
    "# SMALL Nodes FILE\n",
    "\n",
    "edges_file = '/Users/ybatash/PycharmProjects/jupyter/tau-network-science/b_01_2019/edges_2019_01.csv'\n",
    "edf = spark.read.csv(path=edges_file, header=True)\n",
    "\n",
    "edf.count()"
   ]
  },
  {
   "cell_type": "code",
   "execution_count": 7,
   "metadata": {},
   "outputs": [
    {
     "name": "stdout",
     "output_type": "stream",
     "text": [
      "root\n",
      " |-- Source: string (nullable = true)\n",
      " |-- Target: string (nullable = true)\n",
      " |-- Weight: string (nullable = true)\n",
      "\n"
     ]
    },
    {
     "data": {
      "text/plain": [
       "136897"
      ]
     },
     "execution_count": 7,
     "metadata": {},
     "output_type": "execute_result"
    }
   ],
   "source": [
    "edf.createOrReplaceTempView('EDF')\n",
    "edf.printSchema()\n",
    "edf.count()\n"
   ]
  },
  {
   "cell_type": "code",
   "execution_count": 15,
   "metadata": {},
   "outputs": [
    {
     "data": {
      "text/plain": [
       "10464"
      ]
     },
     "execution_count": 15,
     "metadata": {},
     "output_type": "execute_result"
    }
   ],
   "source": [
    "edges_filter_df = spark.sql(\"\"\"select distinct Source as Id from EDF union select distinct Target from EDF\"\"\")\n",
    "\n",
    "\n",
    "edges_filter_df.createOrReplaceTempView('eFilter')\n",
    "\n",
    "edges_filter_df.count()"
   ]
  },
  {
   "cell_type": "code",
   "execution_count": 17,
   "metadata": {},
   "outputs": [
    {
     "data": {
      "text/plain": [
       "10443"
      ]
     },
     "execution_count": 17,
     "metadata": {},
     "output_type": "execute_result"
    }
   ],
   "source": [
    "nodes_df = spark.sql(\"\"\"\n",
    "select  A.ident             as Id,\n",
    "        A.name              as Label,\n",
    "        A.type              as Airport_Type,\n",
    "        A.iso_country       as Country,\n",
    "        A.latitude_deg      as lat,\n",
    "        A.longitude_deg     as lng\n",
    "from    ADF as A join eFilter as E \n",
    "        on A.ident=E.Id\n",
    "\"\"\")\n",
    "# where   iso_country = 'IL'\n",
    "\n",
    "nodes_df.count()\n"
   ]
  },
  {
   "cell_type": "code",
   "execution_count": 19,
   "metadata": {},
   "outputs": [
    {
     "name": "stdout",
     "output_type": "stream",
     "text": [
      "+--------+\n",
      "|count(1)|\n",
      "+--------+\n",
      "|1530    |\n",
      "+--------+\n",
      "\n"
     ]
    }
   ],
   "source": [
    "nodes_df.createOrReplaceTempView('N')\n",
    "\n",
    "spark.sql(\"\"\"select count(*) from N where Airport_Type in ('medium_airport','large_airport')\"\"\").show(10,False)"
   ]
  },
  {
   "cell_type": "code",
   "execution_count": 18,
   "metadata": {},
   "outputs": [],
   "source": [
    "nodes_df.repartition(1).write.format(\"com.databricks.spark.csv\").option(\"header\", \"true\").save(\"new_nodes\")\n"
   ]
  },
  {
   "cell_type": "code",
   "execution_count": 30,
   "metadata": {},
   "outputs": [],
   "source": [
    "# flightlist_file = '/Users/ybatash/PycharmProjects/jupyter/tau-network-science/data/raw_data/flightlist_*.csv.gz'\n",
    "# fdf = spark.read.csv(path=flightlist_file, header=True)\n",
    "# fdf = fdf.withColumn(\"filename\", input_file_name())\n",
    "# fdf.createOrReplaceTempView('FDF')\n",
    "# fdf.printSchema()\n"
   ]
  },
  {
   "cell_type": "code",
   "execution_count": 31,
   "metadata": {},
   "outputs": [],
   "source": [
    "# spark.sql(\"\"\"\n",
    "# select \n",
    "#         filename,\n",
    "#         count(*) as row_count,\n",
    "#         sum( case when callsign     is not null then 1 else 0 end)/count(*) * 100 as nn_count_callsign     ,\n",
    "#         sum( case when number       is not null then 1 else 0 end)/count(*) * 100 as nn_count_number       ,\n",
    "#         sum( case when icao24       is not null then 1 else 0 end)/count(*) * 100 as nn_count_icao24       ,\n",
    "#         sum( case when registration is not null then 1 else 0 end)/count(*) * 100 as nn_count_registration ,\n",
    "#         sum( case when typecode     is not null then 1 else 0 end)/count(*) * 100 as nn_count_typecode     ,\n",
    "#         sum( case when origin       is not null then 1 else 0 end)/count(*) * 100 as nn_count_origin       ,\n",
    "#         sum( case when destination  is not null then 1 else 0 end)/count(*) * 100 as nn_count_destination  ,\n",
    "\n",
    "#        sum( case\n",
    "#                   when origin       is not null and\n",
    "#                        destination  is not null\n",
    "#                     then 1 else 0 end)/count(*) * 100 as nn_count_origin_destination       ,\n",
    "\n",
    "\n",
    "#         sum( case when firstseen    is not null then 1 else 0 end)/count(*) * 100 as nn_count_firstseen    ,\n",
    "#         sum( case when lastseen     is not null then 1 else 0 end)/count(*) * 100 as nn_count_lastseen     ,\n",
    "#         sum( case when day          is not null then 1 else 0 end)/count(*) * 100 as nn_count_day          ,\n",
    "#         sum( case when latitude_1   is not null then 1 else 0 end)/count(*) * 100 as nn_count_latitude_1   ,\n",
    "#         sum( case when longitude_1  is not null then 1 else 0 end)/count(*) * 100 as nn_count_longitude_1  ,\n",
    "#         sum( case when altitude_1   is not null then 1 else 0 end)/count(*) * 100 as nn_count_altitude_1   ,\n",
    "#         sum( case when latitude_2   is not null then 1 else 0 end)/count(*) * 100 as nn_count_latitude_2   ,\n",
    "#         sum( case when longitude_2  is not null then 1 else 0 end)/count(*) * 100 as nn_count_longitude_2  ,\n",
    "#         sum( case when altitude_2   is not null then 1 else 0 end)/count(*) * 100 as nn_count_altitude_2\n",
    "# from FDF\n",
    "# where origin is not null and destination  is not null\n",
    "# group by 1\n",
    "# \"\"\").show(10, False)\n"
   ]
  },
  {
   "cell_type": "code",
   "execution_count": 32,
   "metadata": {},
   "outputs": [],
   "source": [
    "# res_df = spark.sql(\"\"\"\n",
    "# select origin                   as origin_airport,\n",
    "#        destination              as destination_airport,\n",
    "#        count(*)                 as flights_count \n",
    "# from   FDF     \n",
    "# where   1=1\n",
    "#         and origin is not null and destination  is not null\n",
    "#         and filename like 'file:///Users/ybatash/PycharmProjects/jupyter/tau-network-science/data/raw_data/flightlist_2019_%.csv.gz'\n",
    "# group by 1,2        \n",
    "# \"\"\")\n",
    "# res_df.createOrReplaceTempView('FDF')"
   ]
  },
  {
   "cell_type": "code",
   "execution_count": 25,
   "metadata": {},
   "outputs": [
    {
     "name": "stdout",
     "output_type": "stream",
     "text": [
      "+-------------------------------------------------------------+\n",
      "|count(DISTINCT coalesce(origin_airport, destination_airport))|\n",
      "+-------------------------------------------------------------+\n",
      "|1074                                                         |\n",
      "+-------------------------------------------------------------+\n",
      "\n"
     ]
    }
   ],
   "source": [
    "# spark.sql(\"\"\"\n",
    "# with T \n",
    "# as(\n",
    "#     select F.origin_airport      as origin_airport,\n",
    "#            A.airport_id          as airport_or,  \n",
    "#            F.destination_airport as destination_airport,\n",
    "#            B.airport_id          as airport_des,\n",
    "#            F.flights_count       as flights_count       \n",
    "#     from   FDF F \n",
    "#            Left Join ADF A\n",
    "#            on F.origin_airport = A.airport_id\n",
    "#            Left Join ADF B\n",
    "#            on F.destination_airport = B.airport_id)\n",
    "\n",
    "# select count(distinct coalesce(origin_airport,destination_airport)) \n",
    "\n",
    "# from T\n",
    "# where  1=1\n",
    "#        and T.airport_or is null or T.airport_des is null\n",
    "\n",
    "# \"\"\").show(10, False)\n"
   ]
  },
  {
   "cell_type": "code",
   "execution_count": null,
   "metadata": {},
   "outputs": [],
   "source": []
  }
 ],
 "metadata": {
  "kernelspec": {
   "display_name": "Python (my_test_env)",
   "language": "python",
   "name": "venv"
  },
  "language_info": {
   "codemirror_mode": {
    "name": "ipython",
    "version": 3
   },
   "file_extension": ".py",
   "mimetype": "text/x-python",
   "name": "python",
   "nbconvert_exporter": "python",
   "pygments_lexer": "ipython3",
   "version": "3.7.3"
  }
 },
 "nbformat": 4,
 "nbformat_minor": 4
}
