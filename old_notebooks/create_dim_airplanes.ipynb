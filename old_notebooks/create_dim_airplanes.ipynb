{
 "cells": [
  {
   "cell_type": "code",
   "execution_count": 17,
   "metadata": {},
   "outputs": [],
   "source": [
    "# In this Spark ETL process we are creating dim Airplanes"
   ]
  },
  {
   "cell_type": "code",
   "execution_count": 1,
   "metadata": {},
   "outputs": [],
   "source": [
    "from pyspark.sql import SparkSession\n",
    "from datetime import datetime, timedelta\n",
    "from pyspark.sql.functions import *\n",
    "import os"
   ]
  },
  {
   "cell_type": "code",
   "execution_count": 2,
   "metadata": {},
   "outputs": [],
   "source": [
    "cwd = os.getcwd()\n",
    "spark = SparkSession.builder.appName('DimAirplanes').getOrCreate()"
   ]
  },
  {
   "cell_type": "code",
   "execution_count": 3,
   "metadata": {},
   "outputs": [],
   "source": [
    "# Step 1 - Load flights data (OpenSky data)\n",
    "\n",
    "file = f'{cwd}/data/raw_data/flights/flightlist_*.csv.gz'\n",
    "fdf = spark.read.csv(path=file, header=True)\n",
    "fdf = fdf.withColumn(\"filename\", input_file_name())\n",
    "fdf.createOrReplaceTempView('FDF')\n",
    "# fdf.printSchema()\n",
    "\n",
    "# flightlist_*.csv.gz (downloaded from - https://zenodo.org/record/4601479#.YLaEU5MzYUH).\n",
    "# Schema:\n",
    "# root\n",
    "#  |-- callsign: string (nullable = true)\n",
    "#  |-- number: string (nullable = true)\n",
    "#  |-- icao24: string (nullable = true)\n",
    "#  |-- registration: string (nullable = true)\n",
    "#  |-- typecode: string (nullable = true)\n",
    "#  |-- origin: string (nullable = true)\n",
    "#  |-- destination: string (nullable = true)\n",
    "#  |-- firstseen: string (nullable = true)\n",
    "#  |-- lastseen: string (nullable = true)\n",
    "#  |-- day: string (nullable = true)\n",
    "#  |-- latitude_1: string (nullable = true)\n",
    "#  |-- longitude_1: string (nullable = true)\n",
    "#  |-- altitude_1: string (nullable = true)\n",
    "#  |-- latitude_2: string (nullable = true)\n",
    "#  |-- longitude_2: string (nullable = true)\n",
    "#  |-- altitude_2: string (nullable = true)\n",
    "#  |-- filename: string (nullable = false)\n"
   ]
  },
  {
   "cell_type": "markdown",
   "metadata": {},
   "source": [
    "# Select all distinct airplanes ICAO code (for filtering later on)"
   ]
  },
  {
   "cell_type": "code",
   "execution_count": 16,
   "metadata": {},
   "outputs": [
    {
     "name": "stdout",
     "output_type": "stream",
     "text": [
      "root\n",
      " |-- icao_code: string (nullable = true)\n",
      " |-- icao_count: long (nullable = false)\n",
      "\n"
     ]
    }
   ],
   "source": [
    "# Filter out all none international flights or filights with incomplate data\n",
    "icao_df = spark.sql(\"\"\"\n",
    "select typecode as icao_code,\n",
    "       count(*) as icao_count\n",
    "from FDF \n",
    "where   1=1 \n",
    "        and origin is not null and destination is not null\n",
    "        and origin<>destination\n",
    "group by 1        \n",
    "\"\"\")\n",
    "\n",
    "icao_df.createOrReplaceTempView('icao')\n",
    "\n",
    "# icao_df.printSchema()\n",
    "\n",
    "# root\n",
    "#  |-- icao_code: string (nullable = true)\n",
    "#  |-- icao_count: long (nullable = false)"
   ]
  },
  {
   "cell_type": "code",
   "execution_count": 11,
   "metadata": {},
   "outputs": [
    {
     "name": "stdout",
     "output_type": "stream",
     "text": [
      "root\n",
      " |-- manufacturer: string (nullable = true)\n",
      " |-- model: string (nullable = true)\n",
      " |-- engine_type: string (nullable = true)\n",
      " |-- engine_count: string (nullable = true)\n",
      " |-- icao_Code: string (nullable = true)\n",
      "\n"
     ]
    }
   ],
   "source": [
    "# Step 3 - Read Aircraft csv file \n",
    "# I created this file downloaded from - https://www.faa.gov/airports/engineering/aircraft_char_database/)\n",
    "\n",
    "a_file = f'{cwd}/data/raw_data/airplanes/Aircraft.csv'\n",
    "adf = spark.read.csv(path=a_file, header=True)\n",
    "# tmp_df = tmp_df.withColumn(\"filename\", input_file_name())\n",
    "adf.createOrReplaceTempView('ADF')\n",
    "adf.printSchema()\n",
    "\n",
    "# root\n",
    "#  |-- manufacturer: string (nullable = true)\n",
    "#  |-- model: string (nullable = true)\n",
    "#  |-- engine_type: string (nullable = true)\n",
    "#  |-- engine_count: string (nullable = true)\n",
    "#  |-- icao_Code: string (nullable = true)"
   ]
  },
  {
   "cell_type": "code",
   "execution_count": 23,
   "metadata": {},
   "outputs": [],
   "source": [
    "# Step 4 - filter all none relevant airplanes (not in flights data) \n",
    "# Trying to prevent performance issues\n",
    "airplanes = spark.sql(\"\"\"\n",
    "With stg\n",
    "as (select  distinct \n",
    "            coalesce(I.icao_code   , 'N/A') as icao_code,\n",
    "            coalesce(A.manufacturer, 'N/A') as manufacturer,\n",
    "            coalesce(A.model       , 'N/A') as model,\n",
    "            coalesce(A.engine_type , 'N/A') as engine_type,\n",
    "            coalesce(A.engine_count, 'N/A') as engine_count,\n",
    "            I.icao_count\n",
    "            --,        \n",
    "            --coalesce(null, 'N/A')           as passenger_capacity,\n",
    "            --coalesce(null, 'N/A')           as plane_type        \n",
    "    from    icao I left join ADF A \n",
    "            on I.icao_Code = A.icao_Code \n",
    "    where   1=1\n",
    "    order by I.icao_count desc)\n",
    "\n",
    "select  icao_code,\n",
    "        case when manufacturer = 'tbd' then 'N/A' else manufacturer end as manufacturer,\n",
    "        case when model = 'tbd' then 'N/A' else model end               as model,\n",
    "        case when engine_type = 'tbd' then 'N/A' else engine_type end   as engine_type,\n",
    "        case when engine_count = 'tbd' then 'N/A' else engine_count end as engine_count      \n",
    "        --,\n",
    "        --passenger_capacity,\n",
    "        --plane_type        \n",
    "from    stg   \n",
    "where   icao_code<>'N/A'\n",
    "\"\"\")"
   ]
  },
  {
   "cell_type": "code",
   "execution_count": 29,
   "metadata": {},
   "outputs": [
    {
     "name": "stdout",
     "output_type": "stream",
     "text": [
      "zsh:1: no matches found: ./airplanes/*.csv\r\n"
     ]
    }
   ],
   "source": [
    "airplanes.repartition(1).write \\\n",
    ".format(\"com.databricks.spark.csv\") \\\n",
    ".option(\"header\", \"true\") \\\n",
    ".option(\"quoteAll\", \"true\") \\\n",
    ".save(\"airplanes\")\n",
    "\n",
    "# Copy new file into proper data folder location\n",
    "!cp ./airplanes/*.csv ./data/dwh/dim_airplanes.csv\n",
    "# Delete Spark output folder\n",
    "!rm -rf ./airplanes\n",
    "# Check that the folder deleted\n",
    "!ls ./airplanes/*.csv"
   ]
  },
  {
   "cell_type": "code",
   "execution_count": null,
   "metadata": {},
   "outputs": [],
   "source": []
  }
 ],
 "metadata": {
  "kernelspec": {
   "display_name": "Python (my_test_env)",
   "language": "python",
   "name": "venv"
  },
  "language_info": {
   "codemirror_mode": {
    "name": "ipython",
    "version": 3
   },
   "file_extension": ".py",
   "mimetype": "text/x-python",
   "name": "python",
   "nbconvert_exporter": "python",
   "pygments_lexer": "ipython3",
   "version": "3.7.3"
  }
 },
 "nbformat": 4,
 "nbformat_minor": 4
}
