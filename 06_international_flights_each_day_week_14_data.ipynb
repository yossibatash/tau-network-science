{
 "cells": [
  {
   "cell_type": "code",
   "execution_count": 13,
   "metadata": {},
   "outputs": [],
   "source": [
    "# In this Spark ETL process we are creating nodes and adges files (from the OpenSky data set) \n",
    "# for creating our network in Gephi.\n",
    "# ------------------------------------------------------------------------------------------\n",
    "# IMPORTENT!!! --> Before runing this code make sure to run - \"00_download_flight_data.sh\"\n",
    "# ------------------------------------------------------------------------------------------"
   ]
  },
  {
   "cell_type": "code",
   "execution_count": 1,
   "metadata": {},
   "outputs": [],
   "source": [
    "from pyspark.sql import SparkSession\n",
    "from datetime import datetime, timedelta\n",
    "from pyspark.sql.functions import *\n",
    "import os"
   ]
  },
  {
   "cell_type": "code",
   "execution_count": 2,
   "metadata": {},
   "outputs": [],
   "source": [
    "cwd = os.getcwd()\n",
    "spark = SparkSession.builder.appName('International').getOrCreate()"
   ]
  },
  {
   "cell_type": "code",
   "execution_count": 7,
   "metadata": {},
   "outputs": [],
   "source": [
    "# Step 1 - Load Flights data (OpenSky data)\n",
    "\n",
    "file = f'{cwd}/data/stg/flights_each_day_week_14_data/flights_*.csv'\n",
    "fdf = spark.read.csv(path=file, header=True)\n",
    "fdf = fdf.withColumn(\"filename\", input_file_name())\n",
    "fdf.createOrReplaceTempView('FDF')\n",
    "# fdf.printSchema()\n",
    "\n",
    "# root\n",
    "#  |-- flight_date: string (nullable = true)\n",
    "#  |-- flight_dayofweek: string (nullable = true)\n",
    "#  |-- airplane_code: string (nullable = true)\n",
    "#  |-- airport_source_code: string (nullable = true)\n",
    "#  |-- airport_target_code: string (nullable = true)\n",
    "#  |-- flights_count: string (nullable = true)\n",
    "#  |-- flight_year: string (nullable = true)\n",
    "#  |-- filename: string (nullable = false)"
   ]
  },
  {
   "cell_type": "code",
   "execution_count": 8,
   "metadata": {},
   "outputs": [],
   "source": [
    "# Step 2 - Load dim airports data\n",
    "\n",
    "file = f'{cwd}/data/nodes/airports/airports_nodes_*.csv'\n",
    "adf = spark.read.csv(path=file, header=True)\n",
    "adf = adf.withColumn(\"filename\", input_file_name())\n",
    "adf.createOrReplaceTempView('ADF')\n",
    "# adf.printSchema()\n",
    "\n",
    "# root\n",
    "#  |-- airport_id: string (nullable = true)\n",
    "#  |-- airport_name: string (nullable = true)\n",
    "#  |-- airport_type: string (nullable = true)\n",
    "#  |-- airport_lat: string (nullable = true)\n",
    "#  |-- airport_lng: string (nullable = true)\n",
    "#  |-- country_iso_2_code: string (nullable = true)\n",
    "#  |-- country_iso_3_code: string (nullable = true)\n",
    "#  |-- country_name: string (nullable = true)\n",
    "#  |-- continent_name: string (nullable = true)\n",
    "#  |-- country_lat: string (nullable = true)\n",
    "#  |-- country_lng: string (nullable = true)\n",
    "#  |-- avg_cases_per_week_14: string (nullable = true)\n",
    "#  |-- population: string (nullable = true)\n",
    "#  |-- covid19_percentage: string (nullable = true)\n",
    "#  |-- covid19_percentage_label: string (nullable = true)\n",
    "#  |-- report_year: string (nullable = true)\n",
    "#  |-- filename: string (nullable = false)\n",
    "\n",
    "\n",
    "adf = spark.sql(\"\"\"\n",
    "\n",
    "select  airport_id as airport_id,\n",
    "        country_iso_2_code as country_iso_2_code\n",
    "from    ADF as A\n",
    "group by 1,2\n",
    "\n",
    "\"\"\")\n",
    "adf.createOrReplaceTempView('ADF')"
   ]
  },
  {
   "cell_type": "code",
   "execution_count": 18,
   "metadata": {},
   "outputs": [],
   "source": [
    "# Step 3 - check distinct values in data set\n",
    "\n",
    "# spark.sql(\"\"\"\n",
    "\n",
    "# select  count(*) as row_count,\n",
    "#         count(distinct F.flight_date         ) as flight_date,\n",
    "#         count(distinct F.flight_dayofweek    ) as flight_dayofweek,\n",
    "#         count(distinct F.airplane_code       ) as airplane_code,\n",
    "#         count(distinct F.airport_source_code ) as airport_source_code,\n",
    "#         count(distinct F.airport_target_code ) as airport_target_code,\n",
    "#         count(distinct F.flights_count       ) as flights_count\n",
    "# from    FDF as F\n",
    "\n",
    "# \"\"\").show(10,False)\n",
    "\n",
    "# +---------+-----------+----------------+-------------+-------------------+-------------------+-------------+\n",
    "# |row_count|flight_date|flight_dayofweek|airplane_code|airport_source_code|airport_target_code|flights_count|\n",
    "# +---------+-----------+----------------+-------------+-------------------+-------------------+-------------+\n",
    "# |502819   |21         |7               |681          |10363              |11886              |119          |\n",
    "# +---------+-----------+----------------+-------------+-------------------+-------------------+-------------+\n",
    "\n",
    "\n",
    "\n",
    "# Now lets check how many we are losing after removing none international flights\n",
    "\n",
    "# spark.sql(\"\"\"\n",
    "\n",
    "# select  count(*) as row_count,\n",
    "#         count(distinct F.flight_date         ) as flight_date,\n",
    "#         count(distinct F.flight_dayofweek    ) as dayofweek,\n",
    "#         count(distinct F.airplane_code       ) as plane_code,\n",
    "#         count(distinct F.airport_source_code ) as airport_source_code,\n",
    "#         count(distinct F.airport_target_code ) as airport_target_code,\n",
    "#         count(distinct S.country_name        ) as s_country_name,\n",
    "#         count(distinct T.country_name        ) as t_country_name\n",
    "# from    FDF as F\n",
    "#         Left join ADF as S\n",
    "#         On F.airport_source_code = S.airport_id\n",
    "#         Left join ADF as T\n",
    "#         On F.airport_target_code = T.airport_id\n",
    "# where   S.country_name<>T.country_name\n",
    "# \"\"\").show(10,False)\n",
    "\n",
    "# +---------+-----------+----------------+-------------+-------------------+-------------------+-------------+\n",
    "# |row_count|flight_date|flight_dayofweek|airplane_code|airport_source_code|airport_target_code|flights_count|\n",
    "# +---------+-----------+----------------+-------------+-------------------+-------------------+-------------+\n",
    "# |502819   |21         |7               |681          |10363              |11886              |119          |\n",
    "# +---------+-----------+----------------+-------------+-------------------+-------------------+-------------+\n",
    "\n",
    "# All flights after join to airports countries\n",
    "# +---------+-----------+---------+----------+-------------------+-------------------+--------------+--------------+\n",
    "# |row_count|flight_date|dayofweek|plane_code|airport_source_code|airport_target_code|s_country_name|t_country_name|\n",
    "# +---------+-----------+---------+----------+-------------------+-------------------+--------------+--------------+\n",
    "# |502819   |21         |7        |681       |10363              |11886              |111           |116           |\n",
    "# +---------+-----------+---------+----------+-------------------+-------------------+--------------+--------------+\n",
    "\n",
    "# where   S.country_name<>T.country_name\n",
    "# +---------+-----------+---------+----------+-------------------+-------------------+--------------+--------------+\n",
    "# |row_count|flight_date|dayofweek|plane_code|airport_source_code|airport_target_code|s_country_name|t_country_name|\n",
    "# +---------+-----------+---------+----------+-------------------+-------------------+--------------+--------------+\n",
    "# |117741   |21         |7        |324       |1490               |1908               |109           |114           |\n",
    "# +---------+-----------+---------+----------+-------------------+-------------------+--------------+--------------+\n",
    "\n"
   ]
  },
  {
   "cell_type": "code",
   "execution_count": 9,
   "metadata": {},
   "outputs": [],
   "source": [
    "# Step 4 - Join with dim airports and filter out all none international flights (for better performance)\n",
    "\n",
    "international_flights_each_day_week_14_data = spark.sql(\"\"\"\n",
    "\n",
    "select  F.flight_date         as flight_date,\n",
    "        F.flight_dayofweek    as dayofweek,\n",
    "        F.airplane_code       as airplane_code,\n",
    "        F.airport_source_code as airport_source_code,\n",
    "        F.airport_target_code as airport_target_code,\n",
    "        cast(F.flights_count as bigint) as flights_count,\n",
    "        year(flight_date)     as flight_year\n",
    "from    FDF as F\n",
    "        Left join ADF as S\n",
    "        On F.airport_source_code = S.airport_id\n",
    "        Left join ADF as T\n",
    "        On F.airport_target_code = T.airport_id\n",
    "where   S.country_iso_2_code<>T.country_iso_2_code\n",
    "\"\"\")"
   ]
  },
  {
   "cell_type": "code",
   "execution_count": 10,
   "metadata": {},
   "outputs": [],
   "source": [
    "international_flights_each_day_week_14_data.repartition(1).write \\\n",
    ".partitionBy('flight_year') \\\n",
    ".mode('overwrite') \\\n",
    ".format(\"com.databricks.spark.csv\") \\\n",
    ".option(\"header\", \"true\") \\\n",
    ".option(\"quoteAll\", \"true\") \\\n",
    ".save(\"./data/edges/international_flights_each_day_week_14_data\")"
   ]
  },
  {
   "cell_type": "code",
   "execution_count": 11,
   "metadata": {},
   "outputs": [
    {
     "name": "stdout",
     "output_type": "stream",
     "text": [
      "zsh:1: no matches found: ./data/edges/international_flights_each_day_week_14_data/flight_year=2019*/*.csv\r\n"
     ]
    }
   ],
   "source": [
    "# Copy new file into proper data folder location\n",
    "!cp ./data/edges/international_flights_each_day_week_14_data/*2019*/*.csv ./data/edges/international_flights_each_day_week_14_data/flights_2019.csv \n",
    "# Delete Spark output folder\n",
    "!rm -rf ./data/edges/international_flights_each_day_week_14_data/flight_year=2019*\n",
    "# Check that the folder deleted\n",
    "!ls ./data/edges/international_flights_each_day_week_14_data/flight_year=2019*/*.csv"
   ]
  },
  {
   "cell_type": "code",
   "execution_count": 12,
   "metadata": {},
   "outputs": [
    {
     "name": "stdout",
     "output_type": "stream",
     "text": [
      "zsh:1: no matches found: ./data/edges/international_flights_each_day_week_14_data/flight_year=2020*/*.csv\r\n"
     ]
    }
   ],
   "source": [
    "# Copy new file into proper data folder location\n",
    "!cp ./data/edges/international_flights_each_day_week_14_data/*2020*/*.csv ./data/edges/international_flights_each_day_week_14_data/flights_2020.csv \n",
    "# Delete Spark output folder\n",
    "!rm -rf ./data/edges/international_flights_each_day_week_14_data/flight_year=2020*\n",
    "# Check that the folder deleted\n",
    "!ls ./data/edges/international_flights_each_day_week_14_data/flight_year=2020*/*.csv"
   ]
  },
  {
   "cell_type": "code",
   "execution_count": 13,
   "metadata": {},
   "outputs": [
    {
     "name": "stdout",
     "output_type": "stream",
     "text": [
      "zsh:1: no matches found: ./data/edges/international_flights_each_day_week_14_data/flight_year=2021*/*.csv\r\n"
     ]
    }
   ],
   "source": [
    "# Copy new file into proper data folder location\n",
    "!cp ./data/edges/international_flights_each_day_week_14_data/*2021*/*.csv ./data/edges/international_flights_each_day_week_14_data/flights_2021.csv \n",
    "# Delete Spark output folder\n",
    "!rm -rf ./data/edges/international_flights_each_day_week_14_data/flight_year=2021*\n",
    "# Check that the folder deleted\n",
    "!ls ./data/edges/international_flights_each_day_week_14_data/flight_year=2021*/*.csv"
   ]
  },
  {
   "cell_type": "code",
   "execution_count": null,
   "metadata": {},
   "outputs": [],
   "source": []
  }
 ],
 "metadata": {
  "kernelspec": {
   "display_name": "Python (my_test_env)",
   "language": "python",
   "name": "venv"
  },
  "language_info": {
   "codemirror_mode": {
    "name": "ipython",
    "version": 3
   },
   "file_extension": ".py",
   "mimetype": "text/x-python",
   "name": "python",
   "nbconvert_exporter": "python",
   "pygments_lexer": "ipython3",
   "version": "3.7.3"
  }
 },
 "nbformat": 4,
 "nbformat_minor": 4
}
