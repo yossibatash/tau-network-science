{
 "cells": [
  {
   "cell_type": "code",
   "execution_count": 1,
   "metadata": {},
   "outputs": [],
   "source": [
    "# In this Spark ETL process we are creating nodes and adges files (from the OpenSky data set) \n",
    "# for creating our network in Gephi.\n",
    "# ------------------------------------------------------------------------------------------\n",
    "# IMPORTENT!!! --> Before runing this code make sure to run - \"00_download_flight_data.sh\"\n",
    "# ------------------------------------------------------------------------------------------"
   ]
  },
  {
   "cell_type": "code",
   "execution_count": 1,
   "metadata": {},
   "outputs": [],
   "source": [
    "from pyspark.sql import SparkSession\n",
    "from datetime import datetime, timedelta\n",
    "from pyspark.sql.functions import *\n",
    "import os"
   ]
  },
  {
   "cell_type": "code",
   "execution_count": 2,
   "metadata": {},
   "outputs": [],
   "source": [
    "cwd = os.getcwd()\n",
    "spark = SparkSession.builder.appName('Week14').getOrCreate()"
   ]
  },
  {
   "cell_type": "code",
   "execution_count": 3,
   "metadata": {},
   "outputs": [],
   "source": [
    "# Step 1 - Load Flights data (OpenSky data)\n",
    "\n",
    "file = f'{cwd}/data/raw_data/flights/flightlist_*.csv.gz'\n",
    "fdf = spark.read.csv(path=file, header=True)\n",
    "fdf = fdf.withColumn(\"filename\", input_file_name())\n",
    "fdf.createOrReplaceTempView('FDF')\n",
    "# fdf.printSchema()\n",
    "\n",
    "# flightlist_*.csv.gz (downloaded from - https://zenodo.org/record/4893103#.YMHhLDYzYUE).\n",
    "# Schema:\n",
    "# root\n",
    "#  |-- callsign: string (nullable = true)\n",
    "#  |-- number: string (nullable = true)\n",
    "#  |-- icao24: string (nullable = true)\n",
    "#  |-- registration: string (nullable = true)\n",
    "#  |-- typecode: string (nullable = true)\n",
    "#  |-- origin: string (nullable = true)\n",
    "#  |-- destination: string (nullable = true)\n",
    "#  |-- firstseen: string (nullable = true)\n",
    "#  |-- lastseen: string (nullable = true)\n",
    "#  |-- day: string (nullable = true)\n",
    "#  |-- latitude_1: string (nullable = true)\n",
    "#  |-- longitude_1: string (nullable = true)\n",
    "#  |-- altitude_1: string (nullable = true)\n",
    "#  |-- latitude_2: string (nullable = true)\n",
    "#  |-- longitude_2: string (nullable = true)\n",
    "#  |-- altitude_2: string (nullable = true)\n",
    "#  |-- filename: string (nullable = false)\n"
   ]
  },
  {
   "cell_type": "code",
   "execution_count": 4,
   "metadata": {},
   "outputs": [],
   "source": [
    "# Step 2 - For each yaer filtering out week 14 data and creating a smaller file (for better performance)\n",
    "\n",
    "flights_each_day_week_14_data = spark.sql(\"\"\"\n",
    "\n",
    "select  date(firstseen)       as flight_date,\n",
    "        dayofweek(firstseen)  as flight_dayofweek,\n",
    "        typecode              as airplane_code,\n",
    "        origin                as airport_source_code,\n",
    "        destination           as airport_target_code,\n",
    "        count(*)              as flights_count,       \n",
    "        year(firstseen)       as flight_year,\n",
    "        year(firstseen)       as year\n",
    "from    FDF\n",
    "where   1=1\n",
    "        and origin is not null and destination is not null\n",
    "        and weekofyear(firstseen)=14\n",
    "group by 1,2,3,4,5,7,8\n",
    "\n",
    "\"\"\")"
   ]
  },
  {
   "cell_type": "code",
   "execution_count": 5,
   "metadata": {},
   "outputs": [],
   "source": [
    "flights_each_day_week_14_data.repartition(1).write \\\n",
    ".partitionBy('year') \\\n",
    ".mode('overwrite') \\\n",
    ".format(\"com.databricks.spark.csv\") \\\n",
    ".option(\"header\", \"true\") \\\n",
    ".option(\"quoteAll\", \"true\") \\\n",
    ".save(\"./data/stg/flights_each_day_week_14_data\")"
   ]
  },
  {
   "cell_type": "code",
   "execution_count": 6,
   "metadata": {},
   "outputs": [
    {
     "name": "stdout",
     "output_type": "stream",
     "text": [
      "zsh:1: no matches found: ./data/stg/flights_each_day_week_14_data/year=2019*/*.csv\r\n"
     ]
    }
   ],
   "source": [
    "# Copy new file into proper data folder location\n",
    "!cp ./data/stg/flights_each_day_week_14_data/*2019*/*.csv ./data/stg/flights_each_day_week_14_data/flights_2019.csv \n",
    "# Delete Spark output folder\n",
    "!rm -rf ./data/stg/flights_each_day_week_14_data/year=2019*\n",
    "# Check that the folder deleted\n",
    "!ls ./data/stg/flights_each_day_week_14_data/year=2019*/*.csv"
   ]
  },
  {
   "cell_type": "code",
   "execution_count": 7,
   "metadata": {},
   "outputs": [
    {
     "name": "stdout",
     "output_type": "stream",
     "text": [
      "zsh:1: no matches found: ./data/stg/flights_each_day_week_14_data/year=2020*/*.csv\r\n"
     ]
    }
   ],
   "source": [
    "# Copy new file into proper data folder location\n",
    "!cp ./data/stg/flights_each_day_week_14_data/*2020*/*.csv ./data/stg/flights_each_day_week_14_data/flights_2020.csv \n",
    "# Delete Spark output folder\n",
    "!rm -rf ./data/stg/flights_each_day_week_14_data/year=2020*\n",
    "# Check that the folder deleted\n",
    "!ls ./data/stg/flights_each_day_week_14_data/year=2020*/*.csv"
   ]
  },
  {
   "cell_type": "code",
   "execution_count": 8,
   "metadata": {},
   "outputs": [
    {
     "name": "stdout",
     "output_type": "stream",
     "text": [
      "zsh:1: no matches found: ./data/stg/flights_each_day_week_14_data/year=2021*/*.csv\r\n"
     ]
    }
   ],
   "source": [
    "# Copy new file into proper data folder location\n",
    "!cp ./data/stg/flights_each_day_week_14_data/*2021*/*.csv ./data/stg/flights_each_day_week_14_data/flights_2021.csv \n",
    "# Delete Spark output folder\n",
    "!rm -rf ./data/stg/flights_each_day_week_14_data/year=2021*\n",
    "# Check that the folder deleted\n",
    "!ls ./data/stg/flights_each_day_week_14_data/year=2021*/*.csv"
   ]
  },
  {
   "cell_type": "code",
   "execution_count": null,
   "metadata": {},
   "outputs": [],
   "source": []
  }
 ],
 "metadata": {
  "kernelspec": {
   "display_name": "Python (my_test_env)",
   "language": "python",
   "name": "venv"
  },
  "language_info": {
   "codemirror_mode": {
    "name": "ipython",
    "version": 3
   },
   "file_extension": ".py",
   "mimetype": "text/x-python",
   "name": "python",
   "nbconvert_exporter": "python",
   "pygments_lexer": "ipython3",
   "version": "3.7.3"
  }
 },
 "nbformat": 4,
 "nbformat_minor": 4
}
